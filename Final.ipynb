{
 "cells": [
  {
   "cell_type": "code",
   "execution_count": 1,
   "id": "6282c852",
   "metadata": {},
   "outputs": [],
   "source": [
    "# import libraries\n",
    "import pandas as pd\n",
    "import autograd.numpy as np\n",
    "import matplotlib.pyplot as plt\n",
    "import time\n",
    "%matplotlib inline"
   ]
  },
  {
   "cell_type": "markdown",
   "id": "59789035",
   "metadata": {},
   "source": [
    "# Read in Train and Test Data"
   ]
  },
  {
   "cell_type": "code",
   "execution_count": 2,
   "id": "6d005544",
   "metadata": {},
   "outputs": [
    {
     "data": {
      "text/html": [
       "<div>\n",
       "<style scoped>\n",
       "    .dataframe tbody tr th:only-of-type {\n",
       "        vertical-align: middle;\n",
       "    }\n",
       "\n",
       "    .dataframe tbody tr th {\n",
       "        vertical-align: top;\n",
       "    }\n",
       "\n",
       "    .dataframe thead th {\n",
       "        text-align: right;\n",
       "    }\n",
       "</style>\n",
       "<table border=\"1\" class=\"dataframe\">\n",
       "  <thead>\n",
       "    <tr style=\"text-align: right;\">\n",
       "      <th></th>\n",
       "      <th>overall</th>\n",
       "      <th>verified</th>\n",
       "      <th>reviewTime</th>\n",
       "      <th>reviewerID</th>\n",
       "      <th>asin</th>\n",
       "      <th>reviewerName</th>\n",
       "      <th>reviewText</th>\n",
       "      <th>summary</th>\n",
       "      <th>unixReviewTime</th>\n",
       "      <th>vote</th>\n",
       "      <th>image</th>\n",
       "      <th>style</th>\n",
       "      <th>category</th>\n",
       "    </tr>\n",
       "  </thead>\n",
       "  <tbody>\n",
       "    <tr>\n",
       "      <th>0</th>\n",
       "      <td>1</td>\n",
       "      <td>False</td>\n",
       "      <td>11 12, 2016</td>\n",
       "      <td>C413C78E10E54C5DB41837889F36C1E8</td>\n",
       "      <td>565D194F38B1CC3F806EE677C61F639C</td>\n",
       "      <td>465E154EC79AFFAB5EB2607198B21433</td>\n",
       "      <td>all of the reviews for this product are fake.</td>\n",
       "      <td>All fake reviews, beware.</td>\n",
       "      <td>1478908800</td>\n",
       "      <td>2.0</td>\n",
       "      <td>NaN</td>\n",
       "      <td>{'Size:': ' Polaris H4'}</td>\n",
       "      <td>automotive</td>\n",
       "    </tr>\n",
       "    <tr>\n",
       "      <th>1</th>\n",
       "      <td>1</td>\n",
       "      <td>True</td>\n",
       "      <td>12 6, 2016</td>\n",
       "      <td>490AE37808EFEE3AF4FE6DEBDEB5A4C8</td>\n",
       "      <td>0D66512A0A7F580523AB996378DF0F14</td>\n",
       "      <td>760C63E8E5E8DC3FAA01878D37BA5678</td>\n",
       "      <td>wrong part. our fault.</td>\n",
       "      <td>One Star</td>\n",
       "      <td>1480982400</td>\n",
       "      <td>NaN</td>\n",
       "      <td>NaN</td>\n",
       "      <td>NaN</td>\n",
       "      <td>automotive</td>\n",
       "    </tr>\n",
       "    <tr>\n",
       "      <th>2</th>\n",
       "      <td>1</td>\n",
       "      <td>True</td>\n",
       "      <td>09 17, 2014</td>\n",
       "      <td>74A9FA5A64449BEE2A2E8E3F62872F0F</td>\n",
       "      <td>A0E45600FF2C5A779CB4314F379C253A</td>\n",
       "      <td>C6E4DD5C1C4EC09E90182644ED6CA9EF</td>\n",
       "      <td>this wire set it really sucks!!!</td>\n",
       "      <td>One Star</td>\n",
       "      <td>1410912000</td>\n",
       "      <td>NaN</td>\n",
       "      <td>NaN</td>\n",
       "      <td>NaN</td>\n",
       "      <td>automotive</td>\n",
       "    </tr>\n",
       "    <tr>\n",
       "      <th>3</th>\n",
       "      <td>1</td>\n",
       "      <td>True</td>\n",
       "      <td>06 11, 2016</td>\n",
       "      <td>EB561158A2829D98B467FE03CC1E45F1</td>\n",
       "      <td>37AB9A82470595E0ACB88BAC48C150EE</td>\n",
       "      <td>F4892A77EA45C52F40AB17ED537EF9FF</td>\n",
       "      <td>first use, it leaked instantly. even at 5 buck...</td>\n",
       "      <td>One Star</td>\n",
       "      <td>1465603200</td>\n",
       "      <td>NaN</td>\n",
       "      <td>NaN</td>\n",
       "      <td>{'Color:': ' Clear', 'Style:': ' 45 Degree'}</td>\n",
       "      <td>automotive</td>\n",
       "    </tr>\n",
       "    <tr>\n",
       "      <th>4</th>\n",
       "      <td>1</td>\n",
       "      <td>True</td>\n",
       "      <td>12 23, 2017</td>\n",
       "      <td>5045D801332850D21618DD13A697CD9B</td>\n",
       "      <td>5772FF30428EEB8E0258C1A53CA2EC50</td>\n",
       "      <td>522F0BBFF2B47F1D63FF781A0AB1D079</td>\n",
       "      <td>didn't fit</td>\n",
       "      <td>One Star</td>\n",
       "      <td>1513987200</td>\n",
       "      <td>NaN</td>\n",
       "      <td>NaN</td>\n",
       "      <td>NaN</td>\n",
       "      <td>automotive</td>\n",
       "    </tr>\n",
       "    <tr>\n",
       "      <th>...</th>\n",
       "      <td>...</td>\n",
       "      <td>...</td>\n",
       "      <td>...</td>\n",
       "      <td>...</td>\n",
       "      <td>...</td>\n",
       "      <td>...</td>\n",
       "      <td>...</td>\n",
       "      <td>...</td>\n",
       "      <td>...</td>\n",
       "      <td>...</td>\n",
       "      <td>...</td>\n",
       "      <td>...</td>\n",
       "      <td>...</td>\n",
       "    </tr>\n",
       "    <tr>\n",
       "      <th>29184</th>\n",
       "      <td>5</td>\n",
       "      <td>True</td>\n",
       "      <td>03 20, 2015</td>\n",
       "      <td>24A0B29940152C574DA401347CE47E7A</td>\n",
       "      <td>CD83ED06223FE876323282B57209D765</td>\n",
       "      <td>1B5F1A160CB115EB26D0651E5BF59BE9</td>\n",
       "      <td>this is the same plush toy that the official d...</td>\n",
       "      <td>Well constructed, very soft</td>\n",
       "      <td>1426809600</td>\n",
       "      <td>NaN</td>\n",
       "      <td>NaN</td>\n",
       "      <td>NaN</td>\n",
       "      <td>toys</td>\n",
       "    </tr>\n",
       "    <tr>\n",
       "      <th>29185</th>\n",
       "      <td>5</td>\n",
       "      <td>True</td>\n",
       "      <td>05 15, 2014</td>\n",
       "      <td>AD3FD1D6499FA73ACBCBB39F89EE5BF9</td>\n",
       "      <td>3625ADD67F860057FD15B71FD0389264</td>\n",
       "      <td>C8DC85A8F6B8527735AF7FA6182BB209</td>\n",
       "      <td>my grandson loved this. it is a great toy, he ...</td>\n",
       "      <td>Fun toy</td>\n",
       "      <td>1400112000</td>\n",
       "      <td>NaN</td>\n",
       "      <td>NaN</td>\n",
       "      <td>NaN</td>\n",
       "      <td>toys</td>\n",
       "    </tr>\n",
       "    <tr>\n",
       "      <th>29186</th>\n",
       "      <td>5</td>\n",
       "      <td>True</td>\n",
       "      <td>11 13, 2017</td>\n",
       "      <td>24C8C33C6FD8ACCAFE2EC1D1FC4DBF05</td>\n",
       "      <td>0C0DF58B2AC0350731C4146D32DBD3F0</td>\n",
       "      <td>951CEFD3CA5CB6773251E773379FF26A</td>\n",
       "      <td>my kiddo loves them! we are a rock climbing fa...</td>\n",
       "      <td>and now the play set has a nice climbing feature</td>\n",
       "      <td>1510531200</td>\n",
       "      <td>NaN</td>\n",
       "      <td>NaN</td>\n",
       "      <td>NaN</td>\n",
       "      <td>toys</td>\n",
       "    </tr>\n",
       "    <tr>\n",
       "      <th>29187</th>\n",
       "      <td>5</td>\n",
       "      <td>True</td>\n",
       "      <td>01 2, 2018</td>\n",
       "      <td>E313EE1C17E5E553343F50BBC95BB2C2</td>\n",
       "      <td>9C9D7AAF41631F1096FE10FBA18B6029</td>\n",
       "      <td>F5A4D2A1C2A0CAD7BBC378CB10CB410C</td>\n",
       "      <td>i bought this for my niece (age 2) and mailed ...</td>\n",
       "      <td>my brother said she liked it and I haven't see...</td>\n",
       "      <td>1514851200</td>\n",
       "      <td>NaN</td>\n",
       "      <td>NaN</td>\n",
       "      <td>{'Style:': ' Standard Version'}</td>\n",
       "      <td>toys</td>\n",
       "    </tr>\n",
       "    <tr>\n",
       "      <th>29188</th>\n",
       "      <td>5</td>\n",
       "      <td>True</td>\n",
       "      <td>07 30, 2016</td>\n",
       "      <td>BE12BFE2E36DE2B8892B31F0BE5F997F</td>\n",
       "      <td>7A052AB86002325D7201F33FB04EB113</td>\n",
       "      <td>1DB58EA9AE6AA8E377E34CBB502A3D69</td>\n",
       "      <td>my daughter will love this! she's a huge ninja...</td>\n",
       "      <td>Ninja fan will love!</td>\n",
       "      <td>1469836800</td>\n",
       "      <td>NaN</td>\n",
       "      <td>NaN</td>\n",
       "      <td>NaN</td>\n",
       "      <td>toys</td>\n",
       "    </tr>\n",
       "  </tbody>\n",
       "</table>\n",
       "<p>29189 rows × 13 columns</p>\n",
       "</div>"
      ],
      "text/plain": [
       "       overall  verified   reviewTime                        reviewerID  \\\n",
       "0            1     False  11 12, 2016  C413C78E10E54C5DB41837889F36C1E8   \n",
       "1            1      True   12 6, 2016  490AE37808EFEE3AF4FE6DEBDEB5A4C8   \n",
       "2            1      True  09 17, 2014  74A9FA5A64449BEE2A2E8E3F62872F0F   \n",
       "3            1      True  06 11, 2016  EB561158A2829D98B467FE03CC1E45F1   \n",
       "4            1      True  12 23, 2017  5045D801332850D21618DD13A697CD9B   \n",
       "...        ...       ...          ...                               ...   \n",
       "29184        5      True  03 20, 2015  24A0B29940152C574DA401347CE47E7A   \n",
       "29185        5      True  05 15, 2014  AD3FD1D6499FA73ACBCBB39F89EE5BF9   \n",
       "29186        5      True  11 13, 2017  24C8C33C6FD8ACCAFE2EC1D1FC4DBF05   \n",
       "29187        5      True   01 2, 2018  E313EE1C17E5E553343F50BBC95BB2C2   \n",
       "29188        5      True  07 30, 2016  BE12BFE2E36DE2B8892B31F0BE5F997F   \n",
       "\n",
       "                                   asin                      reviewerName  \\\n",
       "0      565D194F38B1CC3F806EE677C61F639C  465E154EC79AFFAB5EB2607198B21433   \n",
       "1      0D66512A0A7F580523AB996378DF0F14  760C63E8E5E8DC3FAA01878D37BA5678   \n",
       "2      A0E45600FF2C5A779CB4314F379C253A  C6E4DD5C1C4EC09E90182644ED6CA9EF   \n",
       "3      37AB9A82470595E0ACB88BAC48C150EE  F4892A77EA45C52F40AB17ED537EF9FF   \n",
       "4      5772FF30428EEB8E0258C1A53CA2EC50  522F0BBFF2B47F1D63FF781A0AB1D079   \n",
       "...                                 ...                               ...   \n",
       "29184  CD83ED06223FE876323282B57209D765  1B5F1A160CB115EB26D0651E5BF59BE9   \n",
       "29185  3625ADD67F860057FD15B71FD0389264  C8DC85A8F6B8527735AF7FA6182BB209   \n",
       "29186  0C0DF58B2AC0350731C4146D32DBD3F0  951CEFD3CA5CB6773251E773379FF26A   \n",
       "29187  9C9D7AAF41631F1096FE10FBA18B6029  F5A4D2A1C2A0CAD7BBC378CB10CB410C   \n",
       "29188  7A052AB86002325D7201F33FB04EB113  1DB58EA9AE6AA8E377E34CBB502A3D69   \n",
       "\n",
       "                                              reviewText  \\\n",
       "0          all of the reviews for this product are fake.   \n",
       "1                                 wrong part. our fault.   \n",
       "2                       this wire set it really sucks!!!   \n",
       "3      first use, it leaked instantly. even at 5 buck...   \n",
       "4                                             didn't fit   \n",
       "...                                                  ...   \n",
       "29184  this is the same plush toy that the official d...   \n",
       "29185  my grandson loved this. it is a great toy, he ...   \n",
       "29186  my kiddo loves them! we are a rock climbing fa...   \n",
       "29187  i bought this for my niece (age 2) and mailed ...   \n",
       "29188  my daughter will love this! she's a huge ninja...   \n",
       "\n",
       "                                                 summary  unixReviewTime  \\\n",
       "0                              All fake reviews, beware.      1478908800   \n",
       "1                                               One Star      1480982400   \n",
       "2                                               One Star      1410912000   \n",
       "3                                               One Star      1465603200   \n",
       "4                                               One Star      1513987200   \n",
       "...                                                  ...             ...   \n",
       "29184                        Well constructed, very soft      1426809600   \n",
       "29185                                            Fun toy      1400112000   \n",
       "29186   and now the play set has a nice climbing feature      1510531200   \n",
       "29187  my brother said she liked it and I haven't see...      1514851200   \n",
       "29188                               Ninja fan will love!      1469836800   \n",
       "\n",
       "       vote image                                         style    category  \n",
       "0       2.0   NaN                      {'Size:': ' Polaris H4'}  automotive  \n",
       "1       NaN   NaN                                           NaN  automotive  \n",
       "2       NaN   NaN                                           NaN  automotive  \n",
       "3       NaN   NaN  {'Color:': ' Clear', 'Style:': ' 45 Degree'}  automotive  \n",
       "4       NaN   NaN                                           NaN  automotive  \n",
       "...     ...   ...                                           ...         ...  \n",
       "29184   NaN   NaN                                           NaN        toys  \n",
       "29185   NaN   NaN                                           NaN        toys  \n",
       "29186   NaN   NaN                                           NaN        toys  \n",
       "29187   NaN   NaN               {'Style:': ' Standard Version'}        toys  \n",
       "29188   NaN   NaN                                           NaN        toys  \n",
       "\n",
       "[29189 rows x 13 columns]"
      ]
     },
     "execution_count": 2,
     "metadata": {},
     "output_type": "execute_result"
    }
   ],
   "source": [
    "# read in train data\n",
    "df_train = pd.read_csv(\"Train.csv\", sep=\",\")\n",
    "df_train"
   ]
  },
  {
   "cell_type": "code",
   "execution_count": 3,
   "id": "cb64740c",
   "metadata": {},
   "outputs": [
    {
     "data": {
      "text/html": [
       "<div>\n",
       "<style scoped>\n",
       "    .dataframe tbody tr th:only-of-type {\n",
       "        vertical-align: middle;\n",
       "    }\n",
       "\n",
       "    .dataframe tbody tr th {\n",
       "        vertical-align: top;\n",
       "    }\n",
       "\n",
       "    .dataframe thead th {\n",
       "        text-align: right;\n",
       "    }\n",
       "</style>\n",
       "<table border=\"1\" class=\"dataframe\">\n",
       "  <thead>\n",
       "    <tr style=\"text-align: right;\">\n",
       "      <th></th>\n",
       "      <th>verified</th>\n",
       "      <th>reviewTime</th>\n",
       "      <th>reviewerID</th>\n",
       "      <th>asin</th>\n",
       "      <th>reviewerName</th>\n",
       "      <th>reviewText</th>\n",
       "      <th>summary</th>\n",
       "      <th>unixReviewTime</th>\n",
       "      <th>vote</th>\n",
       "      <th>image</th>\n",
       "      <th>style</th>\n",
       "      <th>category</th>\n",
       "    </tr>\n",
       "  </thead>\n",
       "  <tbody>\n",
       "    <tr>\n",
       "      <th>0</th>\n",
       "      <td>True</td>\n",
       "      <td>07 23, 2015</td>\n",
       "      <td>28EA11D68FB7FF05B5ABB5989B0EDDD2</td>\n",
       "      <td>2CC19105CB9E7E4C30B1A399F3BFA181</td>\n",
       "      <td>B468F2974AA56619CF81B9DB66277892</td>\n",
       "      <td>ordered 318c and receive the 303c. my bad. i d...</td>\n",
       "      <td>Wrong filter</td>\n",
       "      <td>1437609600</td>\n",
       "      <td>NaN</td>\n",
       "      <td>NaN</td>\n",
       "      <td>NaN</td>\n",
       "      <td>automotive</td>\n",
       "    </tr>\n",
       "    <tr>\n",
       "      <th>1</th>\n",
       "      <td>True</td>\n",
       "      <td>11 14, 2016</td>\n",
       "      <td>465EF4B95F3C23F3D2E0DF032806B593</td>\n",
       "      <td>44FF14695671384604654465F32F51BE</td>\n",
       "      <td>B9CBF62E157F0A8798A4D33BA089CE2B</td>\n",
       "      <td>slime must have a serious manufacturing defect...</td>\n",
       "      <td>Don't waste your time on the compressor lottery.</td>\n",
       "      <td>1479081600</td>\n",
       "      <td>6.0</td>\n",
       "      <td>NaN</td>\n",
       "      <td>NaN</td>\n",
       "      <td>automotive</td>\n",
       "    </tr>\n",
       "    <tr>\n",
       "      <th>2</th>\n",
       "      <td>True</td>\n",
       "      <td>12 8, 2016</td>\n",
       "      <td>139CE33FEE21437434272524E638F60B</td>\n",
       "      <td>FD46962FBDA48B8BCB6BCCDE86515E83</td>\n",
       "      <td>68A0EDEBA61ACC7DD4096275BBFA6C8A</td>\n",
       "      <td>while the description says will not produce an...</td>\n",
       "      <td>Not error free in 2012 Mini Countryman S ALL4</td>\n",
       "      <td>1481155200</td>\n",
       "      <td>NaN</td>\n",
       "      <td>NaN</td>\n",
       "      <td>NaN</td>\n",
       "      <td>automotive</td>\n",
       "    </tr>\n",
       "    <tr>\n",
       "      <th>3</th>\n",
       "      <td>True</td>\n",
       "      <td>06 16, 2016</td>\n",
       "      <td>5FAB0AEBEEF467F40843E12D1AD2176C</td>\n",
       "      <td>B602B679B1EDBD9C59BC91802E521324</td>\n",
       "      <td>5C6E597BBBCACE38B3335C3D02CB0522</td>\n",
       "      <td>this keys could not start my truck, after cutt...</td>\n",
       "      <td>This keys could not start my truck, after cutt...</td>\n",
       "      <td>1466035200</td>\n",
       "      <td>NaN</td>\n",
       "      <td>NaN</td>\n",
       "      <td>{'Color:': ' Black'}</td>\n",
       "      <td>automotive</td>\n",
       "    </tr>\n",
       "    <tr>\n",
       "      <th>4</th>\n",
       "      <td>False</td>\n",
       "      <td>12 3, 2016</td>\n",
       "      <td>EEEFD48788F090F22767829BD219B24C</td>\n",
       "      <td>DA059E333E0AF68256582317DBEDA711</td>\n",
       "      <td>50DDC9EE6BA5B5E97F77CDC57CC32EFD</td>\n",
       "      <td>kept on trickle charger when the hd was not ri...</td>\n",
       "      <td>Kept on trickle charger when the HD was not ri...</td>\n",
       "      <td>1480723200</td>\n",
       "      <td>NaN</td>\n",
       "      <td>NaN</td>\n",
       "      <td>NaN</td>\n",
       "      <td>automotive</td>\n",
       "    </tr>\n",
       "    <tr>\n",
       "      <th>...</th>\n",
       "      <td>...</td>\n",
       "      <td>...</td>\n",
       "      <td>...</td>\n",
       "      <td>...</td>\n",
       "      <td>...</td>\n",
       "      <td>...</td>\n",
       "      <td>...</td>\n",
       "      <td>...</td>\n",
       "      <td>...</td>\n",
       "      <td>...</td>\n",
       "      <td>...</td>\n",
       "      <td>...</td>\n",
       "    </tr>\n",
       "    <tr>\n",
       "      <th>4495</th>\n",
       "      <td>True</td>\n",
       "      <td>05 21, 2016</td>\n",
       "      <td>96229E77FBE5E282B1C28D480C4A7E9D</td>\n",
       "      <td>3D9B6884A0E19B6E98C4397E8AEC6969</td>\n",
       "      <td>471965BDE985724707CC087CE0E713FC</td>\n",
       "      <td>the name schleich speaks for itself.</td>\n",
       "      <td>Five Stars</td>\n",
       "      <td>1463788800</td>\n",
       "      <td>NaN</td>\n",
       "      <td>NaN</td>\n",
       "      <td>{'Product Packaging:': ' Standard Packaging'}</td>\n",
       "      <td>toys</td>\n",
       "    </tr>\n",
       "    <tr>\n",
       "      <th>4496</th>\n",
       "      <td>True</td>\n",
       "      <td>12 22, 2014</td>\n",
       "      <td>010ED927C28962D8BCEF691AC3C2CF61</td>\n",
       "      <td>E5B78BCDC7C77E82F9200E8E876EF31F</td>\n",
       "      <td>557BB4EFC53486EFFC9C113FE2B1A9E7</td>\n",
       "      <td>was what i expected</td>\n",
       "      <td>Five Stars</td>\n",
       "      <td>1419206400</td>\n",
       "      <td>NaN</td>\n",
       "      <td>NaN</td>\n",
       "      <td>NaN</td>\n",
       "      <td>toys</td>\n",
       "    </tr>\n",
       "    <tr>\n",
       "      <th>4497</th>\n",
       "      <td>True</td>\n",
       "      <td>12 17, 2011</td>\n",
       "      <td>CB6E508974747F4052E87E8FAC4851AD</td>\n",
       "      <td>9DE6FD79FECA9146D5350C831A95AE07</td>\n",
       "      <td>4DEDB16F4FFA333ADEAA4CD80A46B4BD</td>\n",
       "      <td>my son loves it.  every time it's in the playr...</td>\n",
       "      <td>Great</td>\n",
       "      <td>1324080000</td>\n",
       "      <td>NaN</td>\n",
       "      <td>NaN</td>\n",
       "      <td>{'Color:': ' Regular'}</td>\n",
       "      <td>toys</td>\n",
       "    </tr>\n",
       "    <tr>\n",
       "      <th>4498</th>\n",
       "      <td>True</td>\n",
       "      <td>05 23, 2018</td>\n",
       "      <td>6554C955821D198A9A120131E0ABC9A4</td>\n",
       "      <td>90430F87881E42941D83893F647945A2</td>\n",
       "      <td>BCCA8B84B04D85C637DF6503D9227641</td>\n",
       "      <td>very cute. fits in car seat handle but is defi...</td>\n",
       "      <td>Five Stars</td>\n",
       "      <td>1527033600</td>\n",
       "      <td>NaN</td>\n",
       "      <td>NaN</td>\n",
       "      <td>NaN</td>\n",
       "      <td>toys</td>\n",
       "    </tr>\n",
       "    <tr>\n",
       "      <th>4499</th>\n",
       "      <td>False</td>\n",
       "      <td>11 25, 2015</td>\n",
       "      <td>9E6E68D09D294E2F4B906F893BA0646E</td>\n",
       "      <td>29ECF94F93245C9D75DD7EE5DB0252E2</td>\n",
       "      <td>AC7938DC5E794F913EC83092EFE83177</td>\n",
       "      <td>we saw the viral video a while back of the fat...</td>\n",
       "      <td>Good, clean fun with surprisingly little mess</td>\n",
       "      <td>1448409600</td>\n",
       "      <td>3.0</td>\n",
       "      <td>NaN</td>\n",
       "      <td>{'Product Packaging:': ' Standard Packaging'}</td>\n",
       "      <td>toys</td>\n",
       "    </tr>\n",
       "  </tbody>\n",
       "</table>\n",
       "<p>4500 rows × 12 columns</p>\n",
       "</div>"
      ],
      "text/plain": [
       "      verified   reviewTime                        reviewerID  \\\n",
       "0         True  07 23, 2015  28EA11D68FB7FF05B5ABB5989B0EDDD2   \n",
       "1         True  11 14, 2016  465EF4B95F3C23F3D2E0DF032806B593   \n",
       "2         True   12 8, 2016  139CE33FEE21437434272524E638F60B   \n",
       "3         True  06 16, 2016  5FAB0AEBEEF467F40843E12D1AD2176C   \n",
       "4        False   12 3, 2016  EEEFD48788F090F22767829BD219B24C   \n",
       "...        ...          ...                               ...   \n",
       "4495      True  05 21, 2016  96229E77FBE5E282B1C28D480C4A7E9D   \n",
       "4496      True  12 22, 2014  010ED927C28962D8BCEF691AC3C2CF61   \n",
       "4497      True  12 17, 2011  CB6E508974747F4052E87E8FAC4851AD   \n",
       "4498      True  05 23, 2018  6554C955821D198A9A120131E0ABC9A4   \n",
       "4499     False  11 25, 2015  9E6E68D09D294E2F4B906F893BA0646E   \n",
       "\n",
       "                                  asin                      reviewerName  \\\n",
       "0     2CC19105CB9E7E4C30B1A399F3BFA181  B468F2974AA56619CF81B9DB66277892   \n",
       "1     44FF14695671384604654465F32F51BE  B9CBF62E157F0A8798A4D33BA089CE2B   \n",
       "2     FD46962FBDA48B8BCB6BCCDE86515E83  68A0EDEBA61ACC7DD4096275BBFA6C8A   \n",
       "3     B602B679B1EDBD9C59BC91802E521324  5C6E597BBBCACE38B3335C3D02CB0522   \n",
       "4     DA059E333E0AF68256582317DBEDA711  50DDC9EE6BA5B5E97F77CDC57CC32EFD   \n",
       "...                                ...                               ...   \n",
       "4495  3D9B6884A0E19B6E98C4397E8AEC6969  471965BDE985724707CC087CE0E713FC   \n",
       "4496  E5B78BCDC7C77E82F9200E8E876EF31F  557BB4EFC53486EFFC9C113FE2B1A9E7   \n",
       "4497  9DE6FD79FECA9146D5350C831A95AE07  4DEDB16F4FFA333ADEAA4CD80A46B4BD   \n",
       "4498  90430F87881E42941D83893F647945A2  BCCA8B84B04D85C637DF6503D9227641   \n",
       "4499  29ECF94F93245C9D75DD7EE5DB0252E2  AC7938DC5E794F913EC83092EFE83177   \n",
       "\n",
       "                                             reviewText  \\\n",
       "0     ordered 318c and receive the 303c. my bad. i d...   \n",
       "1     slime must have a serious manufacturing defect...   \n",
       "2     while the description says will not produce an...   \n",
       "3     this keys could not start my truck, after cutt...   \n",
       "4     kept on trickle charger when the hd was not ri...   \n",
       "...                                                 ...   \n",
       "4495               the name schleich speaks for itself.   \n",
       "4496                                was what i expected   \n",
       "4497  my son loves it.  every time it's in the playr...   \n",
       "4498  very cute. fits in car seat handle but is defi...   \n",
       "4499  we saw the viral video a while back of the fat...   \n",
       "\n",
       "                                                summary  unixReviewTime  vote  \\\n",
       "0                                          Wrong filter      1437609600   NaN   \n",
       "1      Don't waste your time on the compressor lottery.      1479081600   6.0   \n",
       "2         Not error free in 2012 Mini Countryman S ALL4      1481155200   NaN   \n",
       "3     This keys could not start my truck, after cutt...      1466035200   NaN   \n",
       "4     Kept on trickle charger when the HD was not ri...      1480723200   NaN   \n",
       "...                                                 ...             ...   ...   \n",
       "4495                                         Five Stars      1463788800   NaN   \n",
       "4496                                         Five Stars      1419206400   NaN   \n",
       "4497                                              Great      1324080000   NaN   \n",
       "4498                                         Five Stars      1527033600   NaN   \n",
       "4499      Good, clean fun with surprisingly little mess      1448409600   3.0   \n",
       "\n",
       "     image                                          style    category  \n",
       "0      NaN                                            NaN  automotive  \n",
       "1      NaN                                            NaN  automotive  \n",
       "2      NaN                                            NaN  automotive  \n",
       "3      NaN                           {'Color:': ' Black'}  automotive  \n",
       "4      NaN                                            NaN  automotive  \n",
       "...    ...                                            ...         ...  \n",
       "4495   NaN  {'Product Packaging:': ' Standard Packaging'}        toys  \n",
       "4496   NaN                                            NaN        toys  \n",
       "4497   NaN                         {'Color:': ' Regular'}        toys  \n",
       "4498   NaN                                            NaN        toys  \n",
       "4499   NaN  {'Product Packaging:': ' Standard Packaging'}        toys  \n",
       "\n",
       "[4500 rows x 12 columns]"
      ]
     },
     "execution_count": 3,
     "metadata": {},
     "output_type": "execute_result"
    }
   ],
   "source": [
    "# read in test data\n",
    "df_test = pd.read_csv(\"Test.csv\", sep=\",\")\n",
    "df_test"
   ]
  },
  {
   "cell_type": "markdown",
   "id": "d4b97bbd",
   "metadata": {},
   "source": [
    "# Processing Data\n",
    "\n",
    "To manage the <i><b>reviewText</b></i> column, we will vectorize these reviews using uni-, bi-, and trigrams, with min_df set to 5 and blocking stop words."
   ]
  },
  {
   "cell_type": "code",
   "execution_count": 4,
   "id": "75add7ef",
   "metadata": {},
   "outputs": [],
   "source": [
    "from sklearn.feature_extraction.text import CountVectorizer\n",
    "cv=CountVectorizer(analyzer='word', ngram_range=(1,3), min_df=5, stop_words='english')\n",
    "\n",
    "uni_bi_tri = cv.fit(df_train['reviewText'])"
   ]
  },
  {
   "cell_type": "code",
   "execution_count": 5,
   "id": "f90d2cde",
   "metadata": {},
   "outputs": [
    {
     "data": {
      "text/html": [
       "<div>\n",
       "<style scoped>\n",
       "    .dataframe tbody tr th:only-of-type {\n",
       "        vertical-align: middle;\n",
       "    }\n",
       "\n",
       "    .dataframe tbody tr th {\n",
       "        vertical-align: top;\n",
       "    }\n",
       "\n",
       "    .dataframe thead th {\n",
       "        text-align: right;\n",
       "    }\n",
       "</style>\n",
       "<table border=\"1\" class=\"dataframe\">\n",
       "  <thead>\n",
       "    <tr style=\"text-align: right;\">\n",
       "      <th></th>\n",
       "      <th>overall</th>\n",
       "      <th>verified</th>\n",
       "      <th>reviewTime</th>\n",
       "      <th>reviewerID</th>\n",
       "      <th>asin</th>\n",
       "      <th>reviewerName</th>\n",
       "      <th>reviewText</th>\n",
       "      <th>summary</th>\n",
       "      <th>unixReviewTime</th>\n",
       "      <th>vote</th>\n",
       "      <th>image</th>\n",
       "      <th>style</th>\n",
       "      <th>category</th>\n",
       "    </tr>\n",
       "  </thead>\n",
       "  <tbody>\n",
       "    <tr>\n",
       "      <th>0</th>\n",
       "      <td>1</td>\n",
       "      <td>False</td>\n",
       "      <td>11 12, 2016</td>\n",
       "      <td>C413C78E10E54C5DB41837889F36C1E8</td>\n",
       "      <td>565D194F38B1CC3F806EE677C61F639C</td>\n",
       "      <td>465E154EC79AFFAB5EB2607198B21433</td>\n",
       "      <td>all of the reviews for this product are fake.</td>\n",
       "      <td>All fake reviews, beware.</td>\n",
       "      <td>1478908800</td>\n",
       "      <td>2.0</td>\n",
       "      <td>NaN</td>\n",
       "      <td>{'Size:': ' Polaris H4'}</td>\n",
       "      <td>automotive</td>\n",
       "    </tr>\n",
       "    <tr>\n",
       "      <th>1</th>\n",
       "      <td>1</td>\n",
       "      <td>True</td>\n",
       "      <td>12 6, 2016</td>\n",
       "      <td>490AE37808EFEE3AF4FE6DEBDEB5A4C8</td>\n",
       "      <td>0D66512A0A7F580523AB996378DF0F14</td>\n",
       "      <td>760C63E8E5E8DC3FAA01878D37BA5678</td>\n",
       "      <td>wrong part. our fault.</td>\n",
       "      <td>One Star</td>\n",
       "      <td>1480982400</td>\n",
       "      <td>NaN</td>\n",
       "      <td>NaN</td>\n",
       "      <td>NaN</td>\n",
       "      <td>automotive</td>\n",
       "    </tr>\n",
       "    <tr>\n",
       "      <th>2</th>\n",
       "      <td>1</td>\n",
       "      <td>True</td>\n",
       "      <td>09 17, 2014</td>\n",
       "      <td>74A9FA5A64449BEE2A2E8E3F62872F0F</td>\n",
       "      <td>A0E45600FF2C5A779CB4314F379C253A</td>\n",
       "      <td>C6E4DD5C1C4EC09E90182644ED6CA9EF</td>\n",
       "      <td>this wire set it really sucks!!!</td>\n",
       "      <td>One Star</td>\n",
       "      <td>1410912000</td>\n",
       "      <td>NaN</td>\n",
       "      <td>NaN</td>\n",
       "      <td>NaN</td>\n",
       "      <td>automotive</td>\n",
       "    </tr>\n",
       "    <tr>\n",
       "      <th>3</th>\n",
       "      <td>1</td>\n",
       "      <td>True</td>\n",
       "      <td>06 11, 2016</td>\n",
       "      <td>EB561158A2829D98B467FE03CC1E45F1</td>\n",
       "      <td>37AB9A82470595E0ACB88BAC48C150EE</td>\n",
       "      <td>F4892A77EA45C52F40AB17ED537EF9FF</td>\n",
       "      <td>first use, it leaked instantly. even at 5 buck...</td>\n",
       "      <td>One Star</td>\n",
       "      <td>1465603200</td>\n",
       "      <td>NaN</td>\n",
       "      <td>NaN</td>\n",
       "      <td>{'Color:': ' Clear', 'Style:': ' 45 Degree'}</td>\n",
       "      <td>automotive</td>\n",
       "    </tr>\n",
       "    <tr>\n",
       "      <th>4</th>\n",
       "      <td>1</td>\n",
       "      <td>True</td>\n",
       "      <td>12 23, 2017</td>\n",
       "      <td>5045D801332850D21618DD13A697CD9B</td>\n",
       "      <td>5772FF30428EEB8E0258C1A53CA2EC50</td>\n",
       "      <td>522F0BBFF2B47F1D63FF781A0AB1D079</td>\n",
       "      <td>didn't fit</td>\n",
       "      <td>One Star</td>\n",
       "      <td>1513987200</td>\n",
       "      <td>NaN</td>\n",
       "      <td>NaN</td>\n",
       "      <td>NaN</td>\n",
       "      <td>automotive</td>\n",
       "    </tr>\n",
       "    <tr>\n",
       "      <th>...</th>\n",
       "      <td>...</td>\n",
       "      <td>...</td>\n",
       "      <td>...</td>\n",
       "      <td>...</td>\n",
       "      <td>...</td>\n",
       "      <td>...</td>\n",
       "      <td>...</td>\n",
       "      <td>...</td>\n",
       "      <td>...</td>\n",
       "      <td>...</td>\n",
       "      <td>...</td>\n",
       "      <td>...</td>\n",
       "      <td>...</td>\n",
       "    </tr>\n",
       "    <tr>\n",
       "      <th>29184</th>\n",
       "      <td>5</td>\n",
       "      <td>True</td>\n",
       "      <td>03 20, 2015</td>\n",
       "      <td>24A0B29940152C574DA401347CE47E7A</td>\n",
       "      <td>CD83ED06223FE876323282B57209D765</td>\n",
       "      <td>1B5F1A160CB115EB26D0651E5BF59BE9</td>\n",
       "      <td>this is the same plush toy that the official d...</td>\n",
       "      <td>Well constructed, very soft</td>\n",
       "      <td>1426809600</td>\n",
       "      <td>NaN</td>\n",
       "      <td>NaN</td>\n",
       "      <td>NaN</td>\n",
       "      <td>toys</td>\n",
       "    </tr>\n",
       "    <tr>\n",
       "      <th>29185</th>\n",
       "      <td>5</td>\n",
       "      <td>True</td>\n",
       "      <td>05 15, 2014</td>\n",
       "      <td>AD3FD1D6499FA73ACBCBB39F89EE5BF9</td>\n",
       "      <td>3625ADD67F860057FD15B71FD0389264</td>\n",
       "      <td>C8DC85A8F6B8527735AF7FA6182BB209</td>\n",
       "      <td>my grandson loved this. it is a great toy, he ...</td>\n",
       "      <td>Fun toy</td>\n",
       "      <td>1400112000</td>\n",
       "      <td>NaN</td>\n",
       "      <td>NaN</td>\n",
       "      <td>NaN</td>\n",
       "      <td>toys</td>\n",
       "    </tr>\n",
       "    <tr>\n",
       "      <th>29186</th>\n",
       "      <td>5</td>\n",
       "      <td>True</td>\n",
       "      <td>11 13, 2017</td>\n",
       "      <td>24C8C33C6FD8ACCAFE2EC1D1FC4DBF05</td>\n",
       "      <td>0C0DF58B2AC0350731C4146D32DBD3F0</td>\n",
       "      <td>951CEFD3CA5CB6773251E773379FF26A</td>\n",
       "      <td>my kiddo loves them! we are a rock climbing fa...</td>\n",
       "      <td>and now the play set has a nice climbing feature</td>\n",
       "      <td>1510531200</td>\n",
       "      <td>NaN</td>\n",
       "      <td>NaN</td>\n",
       "      <td>NaN</td>\n",
       "      <td>toys</td>\n",
       "    </tr>\n",
       "    <tr>\n",
       "      <th>29187</th>\n",
       "      <td>5</td>\n",
       "      <td>True</td>\n",
       "      <td>01 2, 2018</td>\n",
       "      <td>E313EE1C17E5E553343F50BBC95BB2C2</td>\n",
       "      <td>9C9D7AAF41631F1096FE10FBA18B6029</td>\n",
       "      <td>F5A4D2A1C2A0CAD7BBC378CB10CB410C</td>\n",
       "      <td>i bought this for my niece (age 2) and mailed ...</td>\n",
       "      <td>my brother said she liked it and I haven't see...</td>\n",
       "      <td>1514851200</td>\n",
       "      <td>NaN</td>\n",
       "      <td>NaN</td>\n",
       "      <td>{'Style:': ' Standard Version'}</td>\n",
       "      <td>toys</td>\n",
       "    </tr>\n",
       "    <tr>\n",
       "      <th>29188</th>\n",
       "      <td>5</td>\n",
       "      <td>True</td>\n",
       "      <td>07 30, 2016</td>\n",
       "      <td>BE12BFE2E36DE2B8892B31F0BE5F997F</td>\n",
       "      <td>7A052AB86002325D7201F33FB04EB113</td>\n",
       "      <td>1DB58EA9AE6AA8E377E34CBB502A3D69</td>\n",
       "      <td>my daughter will love this! she's a huge ninja...</td>\n",
       "      <td>Ninja fan will love!</td>\n",
       "      <td>1469836800</td>\n",
       "      <td>NaN</td>\n",
       "      <td>NaN</td>\n",
       "      <td>NaN</td>\n",
       "      <td>toys</td>\n",
       "    </tr>\n",
       "  </tbody>\n",
       "</table>\n",
       "<p>29189 rows × 13 columns</p>\n",
       "</div>"
      ],
      "text/plain": [
       "       overall  verified   reviewTime                        reviewerID  \\\n",
       "0            1     False  11 12, 2016  C413C78E10E54C5DB41837889F36C1E8   \n",
       "1            1      True   12 6, 2016  490AE37808EFEE3AF4FE6DEBDEB5A4C8   \n",
       "2            1      True  09 17, 2014  74A9FA5A64449BEE2A2E8E3F62872F0F   \n",
       "3            1      True  06 11, 2016  EB561158A2829D98B467FE03CC1E45F1   \n",
       "4            1      True  12 23, 2017  5045D801332850D21618DD13A697CD9B   \n",
       "...        ...       ...          ...                               ...   \n",
       "29184        5      True  03 20, 2015  24A0B29940152C574DA401347CE47E7A   \n",
       "29185        5      True  05 15, 2014  AD3FD1D6499FA73ACBCBB39F89EE5BF9   \n",
       "29186        5      True  11 13, 2017  24C8C33C6FD8ACCAFE2EC1D1FC4DBF05   \n",
       "29187        5      True   01 2, 2018  E313EE1C17E5E553343F50BBC95BB2C2   \n",
       "29188        5      True  07 30, 2016  BE12BFE2E36DE2B8892B31F0BE5F997F   \n",
       "\n",
       "                                   asin                      reviewerName  \\\n",
       "0      565D194F38B1CC3F806EE677C61F639C  465E154EC79AFFAB5EB2607198B21433   \n",
       "1      0D66512A0A7F580523AB996378DF0F14  760C63E8E5E8DC3FAA01878D37BA5678   \n",
       "2      A0E45600FF2C5A779CB4314F379C253A  C6E4DD5C1C4EC09E90182644ED6CA9EF   \n",
       "3      37AB9A82470595E0ACB88BAC48C150EE  F4892A77EA45C52F40AB17ED537EF9FF   \n",
       "4      5772FF30428EEB8E0258C1A53CA2EC50  522F0BBFF2B47F1D63FF781A0AB1D079   \n",
       "...                                 ...                               ...   \n",
       "29184  CD83ED06223FE876323282B57209D765  1B5F1A160CB115EB26D0651E5BF59BE9   \n",
       "29185  3625ADD67F860057FD15B71FD0389264  C8DC85A8F6B8527735AF7FA6182BB209   \n",
       "29186  0C0DF58B2AC0350731C4146D32DBD3F0  951CEFD3CA5CB6773251E773379FF26A   \n",
       "29187  9C9D7AAF41631F1096FE10FBA18B6029  F5A4D2A1C2A0CAD7BBC378CB10CB410C   \n",
       "29188  7A052AB86002325D7201F33FB04EB113  1DB58EA9AE6AA8E377E34CBB502A3D69   \n",
       "\n",
       "                                              reviewText  \\\n",
       "0          all of the reviews for this product are fake.   \n",
       "1                                 wrong part. our fault.   \n",
       "2                       this wire set it really sucks!!!   \n",
       "3      first use, it leaked instantly. even at 5 buck...   \n",
       "4                                             didn't fit   \n",
       "...                                                  ...   \n",
       "29184  this is the same plush toy that the official d...   \n",
       "29185  my grandson loved this. it is a great toy, he ...   \n",
       "29186  my kiddo loves them! we are a rock climbing fa...   \n",
       "29187  i bought this for my niece (age 2) and mailed ...   \n",
       "29188  my daughter will love this! she's a huge ninja...   \n",
       "\n",
       "                                                 summary  unixReviewTime  \\\n",
       "0                              All fake reviews, beware.      1478908800   \n",
       "1                                               One Star      1480982400   \n",
       "2                                               One Star      1410912000   \n",
       "3                                               One Star      1465603200   \n",
       "4                                               One Star      1513987200   \n",
       "...                                                  ...             ...   \n",
       "29184                        Well constructed, very soft      1426809600   \n",
       "29185                                            Fun toy      1400112000   \n",
       "29186   and now the play set has a nice climbing feature      1510531200   \n",
       "29187  my brother said she liked it and I haven't see...      1514851200   \n",
       "29188                               Ninja fan will love!      1469836800   \n",
       "\n",
       "       vote image                                         style    category  \n",
       "0       2.0   NaN                      {'Size:': ' Polaris H4'}  automotive  \n",
       "1       NaN   NaN                                           NaN  automotive  \n",
       "2       NaN   NaN                                           NaN  automotive  \n",
       "3       NaN   NaN  {'Color:': ' Clear', 'Style:': ' 45 Degree'}  automotive  \n",
       "4       NaN   NaN                                           NaN  automotive  \n",
       "...     ...   ...                                           ...         ...  \n",
       "29184   NaN   NaN                                           NaN        toys  \n",
       "29185   NaN   NaN                                           NaN        toys  \n",
       "29186   NaN   NaN                                           NaN        toys  \n",
       "29187   NaN   NaN               {'Style:': ' Standard Version'}        toys  \n",
       "29188   NaN   NaN                                           NaN        toys  \n",
       "\n",
       "[29189 rows x 13 columns]"
      ]
     },
     "execution_count": 5,
     "metadata": {},
     "output_type": "execute_result"
    }
   ],
   "source": [
    "df_train"
   ]
  },
  {
   "cell_type": "markdown",
   "id": "b51de235",
   "metadata": {},
   "source": [
    "# Separating Data"
   ]
  },
  {
   "cell_type": "code",
   "execution_count": 6,
   "id": "222c2ed5",
   "metadata": {},
   "outputs": [],
   "source": [
    "from sklearn.model_selection import train_test_split\n",
    "\n",
    "# y is just the 'overall' labels\n",
    "Y = np.array([df_train['overall']]).T\n",
    "\n",
    "# x is the vectorized reviews\n",
    "X_vect_train = uni_bi_tri.transform(df_train['reviewText'])\n",
    "\n",
    "# create the x for the test set; we don't have y yet\n",
    "X_vect_test = uni_bi_tri.transform(df_test['reviewText'])\n",
    "\n",
    "# split train data into a train set and test set for scoring\n",
    "X_train, X_test, y_train, y_test = train_test_split(X_vect_train, Y, train_size=.8, random_state=42)"
   ]
  },
  {
   "cell_type": "code",
   "execution_count": 123,
   "id": "54d3c99b",
   "metadata": {},
   "outputs": [],
   "source": [
    "# models\n",
    "from sklearn.linear_model import LogisticRegression\n",
    "from sklearn.linear_model import Perceptron\n",
    "from sklearn.neighbors import KNeighborsClassifier\n",
    "from sklearn.tree import DecisionTreeClassifier\n",
    "from sklearn.naive_bayes import MultinomialNB\n",
    "from sklearn.cluster import KMeans\n",
    "\n",
    "# hyperparameter tuning/model generation\n",
    "from sklearn.pipeline import Pipeline\n",
    "from sklearn.model_selection import GridSearchCV\n",
    "\n",
    "# scoring\n",
    "from sklearn.preprocessing import label_binarize\n",
    "from sklearn.metrics import ConfusionMatrixDisplay\n",
    "from sklearn.metrics import roc_curve\n",
    "from sklearn.metrics import RocCurveDisplay\n",
    "from sklearn.metrics import roc_auc_score\n",
    "from sklearn.metrics import auc\n",
    "from sklearn.metrics import f1_score\n",
    "from sklearn.metrics import accuracy_score\n",
    "from sklearn.metrics import silhouette_score\n",
    "from sklearn.metrics import rand_score"
   ]
  },
  {
   "cell_type": "markdown",
   "id": "b082cd0b",
   "metadata": {},
   "source": [
    "# Binary Classification\n",
    "\n",
    "For each cutoff, we will use <b>Logistic Regression</b>, <b>Perceptron</b>, and <b>KNN</b> classifiers.\n",
    "\n",
    "We will use $\\text{GridSearchCV}$ to tune hyperparameters through 5-fold cross validation for each model."
   ]
  },
  {
   "cell_type": "code",
   "execution_count": 8,
   "id": "34f0e8b5",
   "metadata": {},
   "outputs": [],
   "source": [
    "its = 5000  # maximum number of iterations for convergence"
   ]
  },
  {
   "cell_type": "markdown",
   "id": "2a18c69b",
   "metadata": {},
   "source": [
    "### Logistic Regression Pipeline and Hyperparameters"
   ]
  },
  {
   "cell_type": "code",
   "execution_count": 9,
   "id": "5f2d22b3",
   "metadata": {},
   "outputs": [],
   "source": [
    "lr_pipe = Pipeline([('clf', LogisticRegression(max_iter=its))])\n",
    "\n",
    "lr_grid_params = {\n",
    "    'clf__C': [.01, .1, 1, 5],\n",
    "    'clf__solver': ['newton-cg', 'liblinear']\n",
    "}"
   ]
  },
  {
   "cell_type": "markdown",
   "id": "aa978c9d",
   "metadata": {},
   "source": [
    "### Perceptron Pipeline and Hyperparameters"
   ]
  },
  {
   "cell_type": "code",
   "execution_count": 10,
   "id": "0bd1864d",
   "metadata": {},
   "outputs": [],
   "source": [
    "per_pipe = Pipeline([('clf', Perceptron(max_iter=its))])\n",
    "\n",
    "per_grid_params = {\n",
    "    'clf__penalty': ['l1', 'l2'],\n",
    "    'clf__alpha': [.00001, 0.0001, .001, .01]\n",
    "}"
   ]
  },
  {
   "cell_type": "markdown",
   "id": "1a26de06",
   "metadata": {},
   "source": [
    "### KNN"
   ]
  },
  {
   "cell_type": "code",
   "execution_count": 11,
   "id": "b47157e2",
   "metadata": {},
   "outputs": [],
   "source": [
    "knn = KNeighborsClassifier()\n",
    "\n",
    "knn_grid_params = {\n",
    "    'n_neighbors': [10, 15, 20],\n",
    "    'weights': ['uniform', 'distance']\n",
    "}"
   ]
  },
  {
   "cell_type": "markdown",
   "id": "888b0dc2",
   "metadata": {},
   "source": [
    "## Cutoff 1"
   ]
  },
  {
   "cell_type": "markdown",
   "id": "3c7a8d93",
   "metadata": {},
   "source": [
    "### Logistic Regression"
   ]
  },
  {
   "cell_type": "code",
   "execution_count": 12,
   "id": "bde65723",
   "metadata": {},
   "outputs": [],
   "source": [
    "# set new 'overall' label to 0 if the original label is less than 2\n",
    "Y_train_c1 = np.where(y_train[:] < 2, 0, 1)\n",
    "Y_valid_c1 = np.where(y_test[:] < 2, 0, 1)"
   ]
  },
  {
   "cell_type": "markdown",
   "id": "906eadb7",
   "metadata": {},
   "source": [
    "##### Generate Model"
   ]
  },
  {
   "cell_type": "code",
   "execution_count": 13,
   "id": "0bdc4a4f",
   "metadata": {},
   "outputs": [],
   "source": [
    "# create the model using 5-fold cross validation\n",
    "gs_lr_c1 = GridSearchCV(lr_pipe, lr_grid_params, cv=5)\n",
    "gs_lr_c1.fit(X_train, Y_train_c1.ravel())\n",
    "\n",
    "# get predicted results using validation set\n",
    "Y_pred_lr_c1_prob = gs_lr_c1.predict_proba(X_test)\n",
    "Y_pred_lr_c1 = gs_lr_c1.predict(X_test)"
   ]
  },
  {
   "cell_type": "markdown",
   "id": "89ea32de",
   "metadata": {},
   "source": [
    "##### Scoring"
   ]
  },
  {
   "cell_type": "code",
   "execution_count": 14,
   "id": "464e73ef",
   "metadata": {},
   "outputs": [
    {
     "data": {
      "text/plain": [
       "<sklearn.metrics._plot.confusion_matrix.ConfusionMatrixDisplay at 0x7fa831374fa0>"
      ]
     },
     "execution_count": 14,
     "metadata": {},
     "output_type": "execute_result"
    },
    {
     "data": {
      "image/png": "[encoded data removed]",
      "text/plain": [
       "<Figure size 432x288 with 2 Axes>"
      ]
     },
     "metadata": {
      "needs_background": "light"
     },
     "output_type": "display_data"
    }
   ],
   "source": [
    "ConfusionMatrixDisplay.from_predictions(Y_valid_c1, Y_pred_lr_c1)"
   ]
  },
  {
   "cell_type": "code",
   "execution_count": 15,
   "id": "17c4e58a",
   "metadata": {},
   "outputs": [
    {
     "data": {
      "image/png": "[encoded data removed]",
      "text/plain": [
       "<Figure size 432x288 with 1 Axes>"
      ]
     },
     "metadata": {
      "needs_background": "light"
     },
     "output_type": "display_data"
    }
   ],
   "source": [
    "fpr, tpr, _ = roc_curve(Y_valid_c1, Y_pred_lr_c1_prob[:, 1])\n",
    "roc_display = RocCurveDisplay(fpr=fpr, tpr=tpr).plot()"
   ]
  },
  {
   "cell_type": "code",
   "execution_count": 16,
   "id": "37a5342d",
   "metadata": {},
   "outputs": [
    {
     "name": "stdout",
     "output_type": "stream",
     "text": [
      "AUC Score: 0.6546901046413636\n"
     ]
    }
   ],
   "source": [
    "print(f\"AUC Score: {roc_auc_score(Y_valid_c1, Y_pred_lr_c1)}\")"
   ]
  },
  {
   "cell_type": "code",
   "execution_count": 17,
   "id": "490d4004",
   "metadata": {},
   "outputs": [
    {
     "name": "stdout",
     "output_type": "stream",
     "text": [
      "Macro F1 Score: 0.6828801874373662\n"
     ]
    }
   ],
   "source": [
    "print(f\"Macro F1 Score: {f1_score(Y_valid_c1, Y_pred_lr_c1, average='macro')}\")"
   ]
  },
  {
   "cell_type": "code",
   "execution_count": 18,
   "id": "d57c6682",
   "metadata": {},
   "outputs": [
    {
     "name": "stdout",
     "output_type": "stream",
     "text": [
      "Accuracy: 0.8309352517985612\n"
     ]
    }
   ],
   "source": [
    "print(f\"Accuracy: {accuracy_score(Y_valid_c1, Y_pred_lr_c1)}\")"
   ]
  },
  {
   "cell_type": "markdown",
   "id": "d2dc8768",
   "metadata": {},
   "source": [
    "### Perceptron"
   ]
  },
  {
   "cell_type": "markdown",
   "id": "d8959c58",
   "metadata": {},
   "source": [
    "##### Model Generation"
   ]
  },
  {
   "cell_type": "code",
   "execution_count": 19,
   "id": "05b886b5",
   "metadata": {},
   "outputs": [],
   "source": [
    "# create the model using 5-fold cross validation\n",
    "gs_per_c1 = GridSearchCV(per_pipe, per_grid_params, cv=5)\n",
    "gs_per_c1.fit(X_train, Y_train_c1.ravel())\n",
    "\n",
    "# get predicted results using validation set\n",
    "Y_pred_per_c1_prob = gs_per_c1.decision_function(X_test)\n",
    "Y_pred_per_c1 = gs_per_c1.predict(X_test)"
   ]
  },
  {
   "cell_type": "markdown",
   "id": "1c621206",
   "metadata": {},
   "source": [
    "##### Scoring"
   ]
  },
  {
   "cell_type": "code",
   "execution_count": 20,
   "id": "585264c7",
   "metadata": {},
   "outputs": [
    {
     "data": {
      "text/plain": [
       "<sklearn.metrics._plot.confusion_matrix.ConfusionMatrixDisplay at 0x7fa84097ec10>"
      ]
     },
     "execution_count": 20,
     "metadata": {},
     "output_type": "execute_result"
    },
    {
     "data": {
      "image/png": "[encoded data removed]",
      "text/plain": [
       "<Figure size 432x288 with 2 Axes>"
      ]
     },
     "metadata": {
      "needs_background": "light"
     },
     "output_type": "display_data"
    }
   ],
   "source": [
    "ConfusionMatrixDisplay.from_predictions(Y_valid_c1, Y_pred_per_c1)"
   ]
  },
  {
   "cell_type": "code",
   "execution_count": 21,
   "id": "0327f4a1",
   "metadata": {},
   "outputs": [
    {
     "data": {
      "image/png": "[encoded data removed]",
      "text/plain": [
       "<Figure size 432x288 with 1 Axes>"
      ]
     },
     "metadata": {
      "needs_background": "light"
     },
     "output_type": "display_data"
    }
   ],
   "source": [
    "fpr, tpr, _ = roc_curve(Y_valid_c1, Y_pred_per_c1_prob)\n",
    "roc_display = RocCurveDisplay(fpr=fpr, tpr=tpr).plot()"
   ]
  },
  {
   "cell_type": "code",
   "execution_count": 22,
   "id": "ac66c1ad",
   "metadata": {},
   "outputs": [
    {
     "name": "stdout",
     "output_type": "stream",
     "text": [
      "AUC Score: 0.5944152526477355\n"
     ]
    }
   ],
   "source": [
    "print(f\"AUC Score: {roc_auc_score(Y_valid_c1, Y_pred_per_c1)}\")"
   ]
  },
  {
   "cell_type": "code",
   "execution_count": 23,
   "id": "ab873070",
   "metadata": {},
   "outputs": [
    {
     "name": "stdout",
     "output_type": "stream",
     "text": [
      "Macro F1 Score: 0.6055784593614937\n"
     ]
    }
   ],
   "source": [
    "print(f\"Macro F1 Score: {f1_score(Y_valid_c1, Y_pred_per_c1, average='macro')}\")"
   ]
  },
  {
   "cell_type": "code",
   "execution_count": 24,
   "id": "b3445b97",
   "metadata": {},
   "outputs": [
    {
     "name": "stdout",
     "output_type": "stream",
     "text": [
      "Accuracy: 0.7780061664953751\n"
     ]
    }
   ],
   "source": [
    "print(f\"Accuracy: {accuracy_score(Y_valid_c1, Y_pred_per_c1)}\")"
   ]
  },
  {
   "cell_type": "markdown",
   "id": "e560e6a0",
   "metadata": {},
   "source": [
    "### K-Nearest Neighbors"
   ]
  },
  {
   "cell_type": "markdown",
   "id": "e3ae061d",
   "metadata": {},
   "source": [
    "##### Model Generation"
   ]
  },
  {
   "cell_type": "code",
   "execution_count": 25,
   "id": "b679f777",
   "metadata": {},
   "outputs": [],
   "source": [
    "# create the model using 5-fold cross validation\n",
    "gs_knn_c1 = GridSearchCV(knn, knn_grid_params, cv=5)\n",
    "gs_knn_c1.fit(X_train, Y_train_c1.ravel())\n",
    "\n",
    "# get predicted results using validation set\n",
    "Y_pred_knn_c1_prob = gs_knn_c1.predict_proba(X_test)\n",
    "Y_pred_knn_c1 = gs_knn_c1.predict(X_test)"
   ]
  },
  {
   "cell_type": "markdown",
   "id": "da84bfd3",
   "metadata": {},
   "source": [
    "##### Scoring"
   ]
  },
  {
   "cell_type": "code",
   "execution_count": 26,
   "id": "f2f9621c",
   "metadata": {},
   "outputs": [
    {
     "data": {
      "text/plain": [
       "<sklearn.metrics._plot.confusion_matrix.ConfusionMatrixDisplay at 0x7fa84235a0d0>"
      ]
     },
     "execution_count": 26,
     "metadata": {},
     "output_type": "execute_result"
    },
    {
     "data": {
      "image/png": "[encoded data removed]",
      "text/plain": [
       "<Figure size 432x288 with 2 Axes>"
      ]
     },
     "metadata": {
      "needs_background": "light"
     },
     "output_type": "display_data"
    }
   ],
   "source": [
    "ConfusionMatrixDisplay.from_predictions(Y_valid_c1, Y_pred_knn_c1)"
   ]
  },
  {
   "cell_type": "code",
   "execution_count": 27,
   "id": "a0d2551d",
   "metadata": {},
   "outputs": [
    {
     "data": {
      "image/png": "[encoded data removed]",
      "text/plain": [
       "<Figure size 432x288 with 1 Axes>"
      ]
     },
     "metadata": {
      "needs_background": "light"
     },
     "output_type": "display_data"
    }
   ],
   "source": [
    "fpr, tpr, _ = roc_curve(Y_valid_c1, Y_pred_knn_c1_prob[:,1])\n",
    "roc_display = RocCurveDisplay(fpr=fpr, tpr=tpr).plot()"
   ]
  },
  {
   "cell_type": "code",
   "execution_count": 28,
   "id": "add6fefc",
   "metadata": {},
   "outputs": [
    {
     "name": "stdout",
     "output_type": "stream",
     "text": [
      "AUC Score: 0.5380277969307665\n"
     ]
    }
   ],
   "source": [
    "print(f\"AUC Score: {roc_auc_score(Y_valid_c1, Y_pred_knn_c1)}\")"
   ]
  },
  {
   "cell_type": "code",
   "execution_count": 29,
   "id": "5656d6fb",
   "metadata": {},
   "outputs": [
    {
     "name": "stdout",
     "output_type": "stream",
     "text": [
      "Macro F1 Score: 0.5224347158385669\n"
     ]
    }
   ],
   "source": [
    "print(f\"Macro F1 Score: {f1_score(Y_valid_c1, Y_pred_knn_c1, average='macro')}\")"
   ]
  },
  {
   "cell_type": "code",
   "execution_count": 30,
   "id": "d7391168",
   "metadata": {},
   "outputs": [
    {
     "name": "stdout",
     "output_type": "stream",
     "text": [
      "Accuracy: 0.7944501541623844\n"
     ]
    }
   ],
   "source": [
    "print(f\"Accuracy: {accuracy_score(Y_valid_c1, Y_pred_knn_c1)}\")"
   ]
  },
  {
   "cell_type": "markdown",
   "id": "8aedd905",
   "metadata": {},
   "source": [
    "## Cutoff 2"
   ]
  },
  {
   "cell_type": "markdown",
   "id": "2f13520e",
   "metadata": {},
   "source": [
    "### Logistic Regression"
   ]
  },
  {
   "cell_type": "code",
   "execution_count": 31,
   "id": "33a37aa7",
   "metadata": {},
   "outputs": [],
   "source": [
    "# set new 'overall' label to 0 if the original label is less than 3\n",
    "Y_train_c2 = np.where(y_train[:] < 3, 0, 1)\n",
    "Y_valid_c2 = np.where(y_test[:] < 3, 0, 1)"
   ]
  },
  {
   "cell_type": "markdown",
   "id": "ca8a44f9",
   "metadata": {},
   "source": [
    "##### Model Generation"
   ]
  },
  {
   "cell_type": "code",
   "execution_count": 32,
   "id": "446e27a4",
   "metadata": {},
   "outputs": [],
   "source": [
    "# create the model using 5-fold cross validation\n",
    "gs_lr_c2 = GridSearchCV(lr_pipe, lr_grid_params, cv=5)\n",
    "gs_lr_c2.fit(X_train, Y_train_c2.ravel())\n",
    "\n",
    "# get predicted results using validation set\n",
    "Y_pred_lr_c2_prob = gs_lr_c2.predict_proba(X_test)\n",
    "Y_pred_lr_c2 = gs_lr_c2.predict(X_test)"
   ]
  },
  {
   "cell_type": "markdown",
   "id": "adb63da2",
   "metadata": {},
   "source": [
    "##### Scoring"
   ]
  },
  {
   "cell_type": "code",
   "execution_count": 33,
   "id": "6626ad35",
   "metadata": {},
   "outputs": [
    {
     "data": {
      "text/plain": [
       "<sklearn.metrics._plot.confusion_matrix.ConfusionMatrixDisplay at 0x7fa8218019d0>"
      ]
     },
     "execution_count": 33,
     "metadata": {},
     "output_type": "execute_result"
    },
    {
     "data": {
      "image/png": "[encoded data removed]",
      "text/plain": [
       "<Figure size 432x288 with 2 Axes>"
      ]
     },
     "metadata": {
      "needs_background": "light"
     },
     "output_type": "display_data"
    }
   ],
   "source": [
    "ConfusionMatrixDisplay.from_predictions(Y_valid_c2, Y_pred_lr_c2)"
   ]
  },
  {
   "cell_type": "code",
   "execution_count": 34,
   "id": "6bb101a1",
   "metadata": {},
   "outputs": [
    {
     "data": {
      "image/png": "[encoded data removed]",
      "text/plain": [
       "<Figure size 432x288 with 1 Axes>"
      ]
     },
     "metadata": {
      "needs_background": "light"
     },
     "output_type": "display_data"
    }
   ],
   "source": [
    "fpr, tpr, _ = roc_curve(Y_valid_c2, Y_pred_lr_c2_prob[:,1])\n",
    "roc_display = RocCurveDisplay(fpr=fpr, tpr=tpr).plot()"
   ]
  },
  {
   "cell_type": "code",
   "execution_count": 35,
   "id": "ba481342",
   "metadata": {},
   "outputs": [
    {
     "name": "stdout",
     "output_type": "stream",
     "text": [
      "AUC Score: 0.7577908320340969\n"
     ]
    }
   ],
   "source": [
    "print(f\"AUC Score: {roc_auc_score(Y_valid_c2, Y_pred_lr_c2)}\")"
   ]
  },
  {
   "cell_type": "code",
   "execution_count": 36,
   "id": "70956475",
   "metadata": {},
   "outputs": [
    {
     "name": "stdout",
     "output_type": "stream",
     "text": [
      "Macro F1 Score: 0.7630229644217827\n"
     ]
    }
   ],
   "source": [
    "print(f\"Macro F1 Score: {f1_score(Y_valid_c2, Y_pred_lr_c2, average='macro')}\")"
   ]
  },
  {
   "cell_type": "code",
   "execution_count": 37,
   "id": "a8306ea9",
   "metadata": {},
   "outputs": [
    {
     "name": "stdout",
     "output_type": "stream",
     "text": [
      "Accuracy: 0.7773210003425831\n"
     ]
    }
   ],
   "source": [
    "print(f\"Accuracy: {accuracy_score(Y_valid_c2, Y_pred_lr_c2)}\")"
   ]
  },
  {
   "cell_type": "markdown",
   "id": "6f486a4c",
   "metadata": {},
   "source": [
    "### Perceptron"
   ]
  },
  {
   "cell_type": "markdown",
   "id": "5264be15",
   "metadata": {},
   "source": [
    "##### Model Generation"
   ]
  },
  {
   "cell_type": "code",
   "execution_count": 38,
   "id": "73469a10",
   "metadata": {},
   "outputs": [],
   "source": [
    "# create the model using 5-fold cross validation\n",
    "gs_per_c2 = GridSearchCV(per_pipe, per_grid_params, cv=5)\n",
    "gs_per_c2.fit(X_train, Y_train_c2.ravel())\n",
    "\n",
    "# get predicted results using validation set\n",
    "Y_pred_per_c2_prob = gs_per_c2.decision_function(X_test)\n",
    "Y_pred_per_c2 = gs_per_c2.predict(X_test)"
   ]
  },
  {
   "cell_type": "markdown",
   "id": "36a577c6",
   "metadata": {},
   "source": [
    "##### Scoring"
   ]
  },
  {
   "cell_type": "code",
   "execution_count": 39,
   "id": "613e7267",
   "metadata": {},
   "outputs": [
    {
     "data": {
      "text/plain": [
       "<sklearn.metrics._plot.confusion_matrix.ConfusionMatrixDisplay at 0x7fa821a53430>"
      ]
     },
     "execution_count": 39,
     "metadata": {},
     "output_type": "execute_result"
    },
    {
     "data": {
      "image/png": "[encoded data removed]",
      "text/plain": [
       "<Figure size 432x288 with 2 Axes>"
      ]
     },
     "metadata": {
      "needs_background": "light"
     },
     "output_type": "display_data"
    }
   ],
   "source": [
    "ConfusionMatrixDisplay.from_predictions(Y_valid_c2, Y_pred_per_c2)"
   ]
  },
  {
   "cell_type": "code",
   "execution_count": 40,
   "id": "0435ff81",
   "metadata": {},
   "outputs": [
    {
     "data": {
      "image/png": "[encoded data removed]",
      "text/plain": [
       "<Figure size 432x288 with 1 Axes>"
      ]
     },
     "metadata": {
      "needs_background": "light"
     },
     "output_type": "display_data"
    }
   ],
   "source": [
    "fpr, tpr, _ = roc_curve(Y_valid_c2, Y_pred_per_c2_prob)\n",
    "roc_display = RocCurveDisplay(fpr=fpr, tpr=tpr).plot()"
   ]
  },
  {
   "cell_type": "code",
   "execution_count": 41,
   "id": "8ea1fa70",
   "metadata": {},
   "outputs": [
    {
     "name": "stdout",
     "output_type": "stream",
     "text": [
      "AUC Score: 0.7125091284694411\n"
     ]
    }
   ],
   "source": [
    "print(f\"AUC Score: {roc_auc_score(Y_valid_c2, Y_pred_per_c2)}\")"
   ]
  },
  {
   "cell_type": "code",
   "execution_count": 42,
   "id": "d255de7c",
   "metadata": {},
   "outputs": [
    {
     "name": "stdout",
     "output_type": "stream",
     "text": [
      "Macro F1 Score: 0.710855396630188\n"
     ]
    }
   ],
   "source": [
    "print(f\"Macro F1 Score: {f1_score(Y_valid_c2, Y_pred_per_c2, average='macro')}\")"
   ]
  },
  {
   "cell_type": "code",
   "execution_count": 43,
   "id": "e25243a0",
   "metadata": {},
   "outputs": [
    {
     "name": "stdout",
     "output_type": "stream",
     "text": [
      "Accuracy: 0.7187392942788626\n"
     ]
    }
   ],
   "source": [
    "print(f\"Accuracy: {accuracy_score(Y_valid_c2, Y_pred_per_c2)}\")"
   ]
  },
  {
   "cell_type": "markdown",
   "id": "7593407f",
   "metadata": {},
   "source": [
    "### K-Nearest Neighbors"
   ]
  },
  {
   "cell_type": "markdown",
   "id": "b0f71a7f",
   "metadata": {},
   "source": [
    "##### Model Generation"
   ]
  },
  {
   "cell_type": "code",
   "execution_count": 44,
   "id": "29ade854",
   "metadata": {},
   "outputs": [],
   "source": [
    "# create the model using 5-fold cross validation\n",
    "gs_knn_c2 = GridSearchCV(knn, knn_grid_params, cv=5)\n",
    "gs_knn_c2.fit(X_train, Y_train_c2.ravel())\n",
    "\n",
    "# get predicted results using validation set\n",
    "Y_pred_knn_c2_prob = gs_knn_c2.predict_proba(X_test)\n",
    "Y_pred_knn_c2 = gs_knn_c2.predict(X_test)"
   ]
  },
  {
   "cell_type": "markdown",
   "id": "8ce67e13",
   "metadata": {},
   "source": [
    "##### Scoring"
   ]
  },
  {
   "cell_type": "code",
   "execution_count": 45,
   "id": "defee19d",
   "metadata": {},
   "outputs": [
    {
     "data": {
      "text/plain": [
       "<sklearn.metrics._plot.confusion_matrix.ConfusionMatrixDisplay at 0x7fa832756100>"
      ]
     },
     "execution_count": 45,
     "metadata": {},
     "output_type": "execute_result"
    },
    {
     "data": {
      "image/png": "[encoded data removed]",
      "text/plain": [
       "<Figure size 432x288 with 2 Axes>"
      ]
     },
     "metadata": {
      "needs_background": "light"
     },
     "output_type": "display_data"
    }
   ],
   "source": [
    "ConfusionMatrixDisplay.from_predictions(Y_valid_c2, Y_pred_knn_c2)"
   ]
  },
  {
   "cell_type": "code",
   "execution_count": 46,
   "id": "ac25bf31",
   "metadata": {},
   "outputs": [
    {
     "data": {
      "image/png": "[encoded data removed]",
      "text/plain": [
       "<Figure size 432x288 with 1 Axes>"
      ]
     },
     "metadata": {
      "needs_background": "light"
     },
     "output_type": "display_data"
    }
   ],
   "source": [
    "fpr, tpr, _ = roc_curve(Y_valid_c2, Y_pred_knn_c2_prob[:,1])\n",
    "roc_display = RocCurveDisplay(fpr=fpr, tpr=tpr).plot()"
   ]
  },
  {
   "cell_type": "code",
   "execution_count": 47,
   "id": "0ee4a5e7",
   "metadata": {},
   "outputs": [
    {
     "name": "stdout",
     "output_type": "stream",
     "text": [
      "AUC Score: 0.6065145836221256\n"
     ]
    }
   ],
   "source": [
    "print(f\"AUC Score: {roc_auc_score(Y_valid_c2, Y_pred_knn_c2)}\")"
   ]
  },
  {
   "cell_type": "code",
   "execution_count": 48,
   "id": "957203b8",
   "metadata": {},
   "outputs": [
    {
     "name": "stdout",
     "output_type": "stream",
     "text": [
      "Macro F1 Score: 0.5994425206913371\n"
     ]
    }
   ],
   "source": [
    "print(f\"Macro F1 Score: {f1_score(Y_valid_c2, Y_pred_knn_c2, average='macro')}\")"
   ]
  },
  {
   "cell_type": "code",
   "execution_count": 49,
   "id": "4a85efa0",
   "metadata": {},
   "outputs": [
    {
     "name": "stdout",
     "output_type": "stream",
     "text": [
      "Accuracy: 0.6538198013018157\n"
     ]
    }
   ],
   "source": [
    "print(f\"Accuracy: {accuracy_score(Y_valid_c2, Y_pred_knn_c2)}\")"
   ]
  },
  {
   "cell_type": "markdown",
   "id": "e98d710f",
   "metadata": {},
   "source": [
    "## Cutoff 3"
   ]
  },
  {
   "cell_type": "markdown",
   "id": "9f4f42b2",
   "metadata": {},
   "source": [
    "### Logistic Regression"
   ]
  },
  {
   "cell_type": "code",
   "execution_count": 50,
   "id": "7a1bedc1",
   "metadata": {},
   "outputs": [],
   "source": [
    "# set new 'overall' label to 0 if the original label is less than 4\n",
    "Y_train_c3 = np.where(y_train[:] < 4, 0, 1)\n",
    "Y_valid_c3 = np.where(y_test[:] < 4, 0, 1)"
   ]
  },
  {
   "cell_type": "markdown",
   "id": "877ffdce",
   "metadata": {},
   "source": [
    "##### Model Generation"
   ]
  },
  {
   "cell_type": "code",
   "execution_count": 51,
   "id": "70450b6c",
   "metadata": {},
   "outputs": [],
   "source": [
    "# create the model using 5-fold cross validation\n",
    "gs_lr_c3 = GridSearchCV(lr_pipe, lr_grid_params, cv=5)\n",
    "gs_lr_c3.fit(X_train, Y_train_c3.ravel())\n",
    "\n",
    "# get predicted results using validation set\n",
    "Y_pred_lr_c3_prob = gs_lr_c3.predict_proba(X_test)\n",
    "Y_pred_lr_c3 = gs_lr_c3.predict(X_test)"
   ]
  },
  {
   "cell_type": "markdown",
   "id": "ea7c6a6b",
   "metadata": {},
   "source": [
    "##### Scoring"
   ]
  },
  {
   "cell_type": "code",
   "execution_count": 52,
   "id": "54b29187",
   "metadata": {},
   "outputs": [
    {
     "data": {
      "text/plain": [
       "<sklearn.metrics._plot.confusion_matrix.ConfusionMatrixDisplay at 0x7fa832a81fd0>"
      ]
     },
     "execution_count": 52,
     "metadata": {},
     "output_type": "execute_result"
    },
    {
     "data": {
      "image/png": "[encoded data removed]",
      "text/plain": [
       "<Figure size 432x288 with 2 Axes>"
      ]
     },
     "metadata": {
      "needs_background": "light"
     },
     "output_type": "display_data"
    }
   ],
   "source": [
    "ConfusionMatrixDisplay.from_predictions(Y_valid_c3, Y_pred_lr_c3)"
   ]
  },
  {
   "cell_type": "code",
   "execution_count": 54,
   "id": "a39f0854",
   "metadata": {},
   "outputs": [
    {
     "data": {
      "image/png": "[encoded data removed]",
      "text/plain": [
       "<Figure size 432x288 with 1 Axes>"
      ]
     },
     "metadata": {
      "needs_background": "light"
     },
     "output_type": "display_data"
    }
   ],
   "source": [
    "fpr, tpr, _ = roc_curve(Y_valid_c3, Y_pred_lr_c3_prob[:,1])\n",
    "roc_display = RocCurveDisplay(fpr=fpr, tpr=tpr).plot()"
   ]
  },
  {
   "cell_type": "code",
   "execution_count": 55,
   "id": "6a8de645",
   "metadata": {},
   "outputs": [
    {
     "name": "stdout",
     "output_type": "stream",
     "text": [
      "AUC Score: 0.7654070164195136\n"
     ]
    }
   ],
   "source": [
    "print(f\"AUC Score: {roc_auc_score(Y_valid_c3, Y_pred_lr_c3)}\")"
   ]
  },
  {
   "cell_type": "code",
   "execution_count": 56,
   "id": "548530dd",
   "metadata": {},
   "outputs": [
    {
     "name": "stdout",
     "output_type": "stream",
     "text": [
      "Macro F1 Score: 0.7712738335400224\n"
     ]
    }
   ],
   "source": [
    "print(f\"Macro F1 Score: {f1_score(Y_valid_c3, Y_pred_lr_c3, average='macro')}\")"
   ]
  },
  {
   "cell_type": "code",
   "execution_count": 57,
   "id": "d5a4233f",
   "metadata": {},
   "outputs": [
    {
     "name": "stdout",
     "output_type": "stream",
     "text": [
      "Accuracy: 0.7886262418636519\n"
     ]
    }
   ],
   "source": [
    "print(f\"Accuracy: {accuracy_score(Y_valid_c3, Y_pred_lr_c3)}\")"
   ]
  },
  {
   "cell_type": "markdown",
   "id": "5658628d",
   "metadata": {},
   "source": [
    "### Perceptron"
   ]
  },
  {
   "cell_type": "markdown",
   "id": "486878b6",
   "metadata": {},
   "source": [
    "##### Model Generation"
   ]
  },
  {
   "cell_type": "code",
   "execution_count": 58,
   "id": "72b880a7",
   "metadata": {},
   "outputs": [],
   "source": [
    "# create the model using 5-fold cross validation\n",
    "gs_per_c3 = GridSearchCV(per_pipe, per_grid_params, cv=5)\n",
    "gs_per_c3.fit(X_train, Y_train_c3.ravel())\n",
    "\n",
    "# get predicted results using validation set\n",
    "Y_pred_per_c3_prob = gs_per_c3.decision_function(X_test)\n",
    "Y_pred_per_c3 = gs_per_c3.predict(X_test)"
   ]
  },
  {
   "cell_type": "markdown",
   "id": "f6714d4d",
   "metadata": {},
   "source": [
    "##### Scoring"
   ]
  },
  {
   "cell_type": "code",
   "execution_count": 59,
   "id": "db8dbbe2",
   "metadata": {},
   "outputs": [
    {
     "data": {
      "text/plain": [
       "<sklearn.metrics._plot.confusion_matrix.ConfusionMatrixDisplay at 0x7fa821a6ba60>"
      ]
     },
     "execution_count": 59,
     "metadata": {},
     "output_type": "execute_result"
    },
    {
     "data": {
      "image/png": "[encoded data removed]",
      "text/plain": [
       "<Figure size 432x288 with 2 Axes>"
      ]
     },
     "metadata": {
      "needs_background": "light"
     },
     "output_type": "display_data"
    }
   ],
   "source": [
    "ConfusionMatrixDisplay.from_predictions(Y_valid_c3, Y_pred_per_c3)"
   ]
  },
  {
   "cell_type": "code",
   "execution_count": 60,
   "id": "0a9f8cce",
   "metadata": {},
   "outputs": [
    {
     "data": {
      "image/png": "[encoded data removed]",
      "text/plain": [
       "<Figure size 432x288 with 1 Axes>"
      ]
     },
     "metadata": {
      "needs_background": "light"
     },
     "output_type": "display_data"
    }
   ],
   "source": [
    "fpr, tpr, _ = roc_curve(Y_valid_c3, Y_pred_per_c3_prob)\n",
    "roc_display = RocCurveDisplay(fpr=fpr, tpr=tpr).plot()"
   ]
  },
  {
   "cell_type": "code",
   "execution_count": 61,
   "id": "ac462f8f",
   "metadata": {},
   "outputs": [
    {
     "name": "stdout",
     "output_type": "stream",
     "text": [
      "AUC Score: 0.7401580088892054\n"
     ]
    }
   ],
   "source": [
    "print(f\"AUC Score: {roc_auc_score(Y_valid_c3, Y_pred_per_c3)}\")"
   ]
  },
  {
   "cell_type": "code",
   "execution_count": 62,
   "id": "124437d5",
   "metadata": {},
   "outputs": [
    {
     "name": "stdout",
     "output_type": "stream",
     "text": [
      "Macro F1 Score: 0.7423340711389808\n"
     ]
    }
   ],
   "source": [
    "print(f\"Macro F1 Score: {f1_score(Y_valid_c3, Y_pred_per_c3, average='macro')}\")"
   ]
  },
  {
   "cell_type": "code",
   "execution_count": 63,
   "id": "b67b6fbc",
   "metadata": {
    "scrolled": true
   },
   "outputs": [
    {
     "name": "stdout",
     "output_type": "stream",
     "text": [
      "Accuracy: 0.7577937649880095\n"
     ]
    }
   ],
   "source": [
    "print(f\"Accuracy: {accuracy_score(Y_valid_c3, Y_pred_per_c3)}\")"
   ]
  },
  {
   "cell_type": "markdown",
   "id": "a280e3ef",
   "metadata": {},
   "source": [
    "### K-Nearest Neighbors"
   ]
  },
  {
   "cell_type": "markdown",
   "id": "a75d7d5f",
   "metadata": {},
   "source": [
    "##### Model Generation"
   ]
  },
  {
   "cell_type": "code",
   "execution_count": 64,
   "id": "a8400091",
   "metadata": {},
   "outputs": [],
   "source": [
    "# create the model using 5-fold cross validation\n",
    "gs_knn_c3 = GridSearchCV(knn, knn_grid_params, cv=5)\n",
    "gs_knn_c3.fit(X_train, Y_train_c3.ravel())\n",
    "\n",
    "# get predicted results using validation set\n",
    "Y_pred_knn_c3_prob = gs_knn_c3.predict_proba(X_test)\n",
    "Y_pred_knn_c3 = gs_knn_c3.predict(X_test)"
   ]
  },
  {
   "cell_type": "markdown",
   "id": "e2d17c7c",
   "metadata": {},
   "source": [
    "##### Scoring"
   ]
  },
  {
   "cell_type": "code",
   "execution_count": 65,
   "id": "de3dc99f",
   "metadata": {},
   "outputs": [
    {
     "data": {
      "text/plain": [
       "<sklearn.metrics._plot.confusion_matrix.ConfusionMatrixDisplay at 0x7fa84149aa30>"
      ]
     },
     "execution_count": 65,
     "metadata": {},
     "output_type": "execute_result"
    },
    {
     "data": {
      "image/png": "[encoded data removed]",
      "text/plain": [
       "<Figure size 432x288 with 2 Axes>"
      ]
     },
     "metadata": {
      "needs_background": "light"
     },
     "output_type": "display_data"
    }
   ],
   "source": [
    "ConfusionMatrixDisplay.from_predictions(Y_valid_c3, Y_pred_knn_c3)"
   ]
  },
  {
   "cell_type": "code",
   "execution_count": 66,
   "id": "6a20c7e8",
   "metadata": {},
   "outputs": [
    {
     "data": {
      "image/png": "[encoded data removed]",
      "text/plain": [
       "<Figure size 432x288 with 1 Axes>"
      ]
     },
     "metadata": {
      "needs_background": "light"
     },
     "output_type": "display_data"
    }
   ],
   "source": [
    "fpr, tpr, _ = roc_curve(Y_valid_c1, Y_pred_knn_c3_prob[:,1])\n",
    "roc_display = RocCurveDisplay(fpr=fpr, tpr=tpr).plot()"
   ]
  },
  {
   "cell_type": "code",
   "execution_count": 67,
   "id": "bce2bfe5",
   "metadata": {},
   "outputs": [
    {
     "name": "stdout",
     "output_type": "stream",
     "text": [
      "AUC Score: 0.6610066965742735\n"
     ]
    }
   ],
   "source": [
    "print(f\"AUC Score: {roc_auc_score(Y_valid_c3, Y_pred_knn_c3)}\")"
   ]
  },
  {
   "cell_type": "code",
   "execution_count": 68,
   "id": "81c798d2",
   "metadata": {},
   "outputs": [
    {
     "name": "stdout",
     "output_type": "stream",
     "text": [
      "Macro F1 Score: 0.6581509022842268\n"
     ]
    }
   ],
   "source": [
    "print(f\"Macro F1 Score: {f1_score(Y_valid_c3, Y_pred_knn_c3, average='macro')}\")"
   ]
  },
  {
   "cell_type": "code",
   "execution_count": 69,
   "id": "d5a28daf",
   "metadata": {},
   "outputs": [
    {
     "name": "stdout",
     "output_type": "stream",
     "text": [
      "Accuracy: 0.670777663583419\n"
     ]
    }
   ],
   "source": [
    "print(f\"Accuracy: {accuracy_score(Y_valid_c3, Y_pred_knn_c3)}\")"
   ]
  },
  {
   "cell_type": "markdown",
   "id": "3658bd99",
   "metadata": {},
   "source": [
    "## Cutoff 4"
   ]
  },
  {
   "cell_type": "markdown",
   "id": "65ce2586",
   "metadata": {},
   "source": [
    "### Logistic Regression"
   ]
  },
  {
   "cell_type": "code",
   "execution_count": 119,
   "id": "997568fe",
   "metadata": {},
   "outputs": [],
   "source": [
    "# set new 'overall' label to 0 if the original label is less than 5\n",
    "Y_train_c4 = np.where(y_train[:] < 5, 0, 1)\n",
    "Y_valid_c4 = np.where(y_test[:] < 5, 0, 1)"
   ]
  },
  {
   "cell_type": "markdown",
   "id": "0b46b1ff",
   "metadata": {},
   "source": [
    "##### Model Generation"
   ]
  },
  {
   "cell_type": "code",
   "execution_count": 71,
   "id": "00df3b7b",
   "metadata": {},
   "outputs": [],
   "source": [
    "# create the model using 5-fold cross validation\n",
    "gs_lr_c4 = GridSearchCV(lr_pipe, lr_grid_params, cv=5)\n",
    "gs_lr_c4.fit(X_train, Y_train_c4.ravel())\n",
    "\n",
    "# get predicted results using validation set\n",
    "Y_pred_lr_c4_prob = gs_lr_c4.predict_proba(X_test)\n",
    "Y_pred_lr_c4 = gs_lr_c4.predict(X_test)"
   ]
  },
  {
   "cell_type": "markdown",
   "id": "e6be28d7",
   "metadata": {},
   "source": [
    "##### Scoring"
   ]
  },
  {
   "cell_type": "code",
   "execution_count": 73,
   "id": "2b8f9b22",
   "metadata": {},
   "outputs": [
    {
     "data": {
      "text/plain": [
       "<sklearn.metrics._plot.confusion_matrix.ConfusionMatrixDisplay at 0x7fa834484be0>"
      ]
     },
     "execution_count": 73,
     "metadata": {},
     "output_type": "execute_result"
    },
    {
     "data": {
      "image/png": "[encoded data removed]",
      "text/plain": [
       "<Figure size 432x288 with 2 Axes>"
      ]
     },
     "metadata": {
      "needs_background": "light"
     },
     "output_type": "display_data"
    }
   ],
   "source": [
    "ConfusionMatrixDisplay.from_predictions(Y_valid_c4, Y_pred_lr_c4)"
   ]
  },
  {
   "cell_type": "code",
   "execution_count": 76,
   "id": "e2a2aff7",
   "metadata": {},
   "outputs": [
    {
     "data": {
      "image/png": "[encoded data removed]",
      "text/plain": [
       "<Figure size 432x288 with 1 Axes>"
      ]
     },
     "metadata": {
      "needs_background": "light"
     },
     "output_type": "display_data"
    }
   ],
   "source": [
    "fpr, tpr, _ = roc_curve(Y_valid_c4, Y_pred_lr_c4_prob[:,1])\n",
    "roc_display = RocCurveDisplay(fpr=fpr, tpr=tpr).plot()"
   ]
  },
  {
   "cell_type": "code",
   "execution_count": 75,
   "id": "000fffcc",
   "metadata": {},
   "outputs": [
    {
     "name": "stdout",
     "output_type": "stream",
     "text": [
      "AUC Score: 0.6854851039203567\n"
     ]
    }
   ],
   "source": [
    "print(f\"AUC Score: {roc_auc_score(Y_valid_c4, Y_pred_lr_c4)}\")"
   ]
  },
  {
   "cell_type": "code",
   "execution_count": 77,
   "id": "05641248",
   "metadata": {},
   "outputs": [
    {
     "name": "stdout",
     "output_type": "stream",
     "text": [
      "Macro F1 Score: 0.7025491938817694\n"
     ]
    }
   ],
   "source": [
    "print(f\"Macro F1 Score: {f1_score(Y_valid_c4, Y_pred_lr_c4, average='macro')}\")"
   ]
  },
  {
   "cell_type": "code",
   "execution_count": 78,
   "id": "101b1628",
   "metadata": {},
   "outputs": [
    {
     "name": "stdout",
     "output_type": "stream",
     "text": [
      "Accuracy: 0.8311065433367592\n"
     ]
    }
   ],
   "source": [
    "print(f\"Accuracy: {accuracy_score(Y_valid_c4, Y_pred_lr_c4)}\")"
   ]
  },
  {
   "cell_type": "markdown",
   "id": "5ac48689",
   "metadata": {},
   "source": [
    "### Perceptron"
   ]
  },
  {
   "cell_type": "markdown",
   "id": "80799228",
   "metadata": {},
   "source": [
    "##### Model Generation"
   ]
  },
  {
   "cell_type": "code",
   "execution_count": 79,
   "id": "c96fa6c1",
   "metadata": {},
   "outputs": [],
   "source": [
    "# create the model using 5-fold cross validation\n",
    "gs_per_c4 = GridSearchCV(per_pipe, per_grid_params, cv=5)\n",
    "gs_per_c4.fit(X_train, Y_train_c4.ravel())\n",
    "\n",
    "# get predicted results using validation set\n",
    "Y_pred_per_c4_prob = gs_per_c4.decision_function(X_test)\n",
    "Y_pred_per_c4 = gs_per_c4.predict(X_test)"
   ]
  },
  {
   "cell_type": "markdown",
   "id": "a855a7d9",
   "metadata": {},
   "source": [
    "##### Scoring"
   ]
  },
  {
   "cell_type": "code",
   "execution_count": 80,
   "id": "d522f692",
   "metadata": {},
   "outputs": [
    {
     "data": {
      "text/plain": [
       "<sklearn.metrics._plot.confusion_matrix.ConfusionMatrixDisplay at 0x7fa840baf400>"
      ]
     },
     "execution_count": 80,
     "metadata": {},
     "output_type": "execute_result"
    },
    {
     "data": {
      "image/png": "[encoded data removed]",
      "text/plain": [
       "<Figure size 432x288 with 2 Axes>"
      ]
     },
     "metadata": {
      "needs_background": "light"
     },
     "output_type": "display_data"
    }
   ],
   "source": [
    "ConfusionMatrixDisplay.from_predictions(Y_valid_c4, Y_pred_per_c4)"
   ]
  },
  {
   "cell_type": "code",
   "execution_count": 81,
   "id": "f462b93f",
   "metadata": {},
   "outputs": [
    {
     "data": {
      "image/png": "[encoded data removed]",
      "text/plain": [
       "<Figure size 432x288 with 1 Axes>"
      ]
     },
     "metadata": {
      "needs_background": "light"
     },
     "output_type": "display_data"
    }
   ],
   "source": [
    "fpr, tpr, _ = roc_curve(Y_valid_c4, Y_pred_per_c4_prob)\n",
    "roc_display = RocCurveDisplay(fpr=fpr, tpr=tpr).plot()"
   ]
  },
  {
   "cell_type": "code",
   "execution_count": 82,
   "id": "629b6cab",
   "metadata": {},
   "outputs": [
    {
     "name": "stdout",
     "output_type": "stream",
     "text": [
      "AUC Score: 0.6683724568612573\n"
     ]
    }
   ],
   "source": [
    "print(f\"AUC Score: {roc_auc_score(Y_valid_c4, Y_pred_per_c4)}\")"
   ]
  },
  {
   "cell_type": "code",
   "execution_count": 83,
   "id": "dadf516d",
   "metadata": {},
   "outputs": [
    {
     "name": "stdout",
     "output_type": "stream",
     "text": [
      "Macro F1 Score: 0.6667392650838541\n"
     ]
    }
   ],
   "source": [
    "print(f\"Macro F1 Score: {f1_score(Y_valid_c4, Y_pred_per_c4, average='macro')}\")"
   ]
  },
  {
   "cell_type": "code",
   "execution_count": 84,
   "id": "7baa124c",
   "metadata": {},
   "outputs": [
    {
     "name": "stdout",
     "output_type": "stream",
     "text": [
      "Accuracy: 0.789482699554642\n"
     ]
    }
   ],
   "source": [
    "print(f\"Accuracy: {accuracy_score(Y_valid_c4, Y_pred_per_c4)}\")"
   ]
  },
  {
   "cell_type": "markdown",
   "id": "0d214ae7",
   "metadata": {},
   "source": [
    "### K-Nearest Neighbors"
   ]
  },
  {
   "cell_type": "markdown",
   "id": "d41cd835",
   "metadata": {},
   "source": [
    "##### Model Generation"
   ]
  },
  {
   "cell_type": "code",
   "execution_count": 85,
   "id": "09061296",
   "metadata": {},
   "outputs": [],
   "source": [
    "# create the model using 5-fold cross validation\n",
    "gs_knn_c4 = GridSearchCV(knn, knn_grid_params, cv=5)\n",
    "gs_knn_c4.fit(X_train, Y_train_c4.ravel())\n",
    "\n",
    "# get predicted results using validation set\n",
    "Y_pred_knn_c4_prob = gs_knn_c4.predict_proba(X_test)\n",
    "Y_pred_knn_c4 = gs_knn_c4.predict(X_test)"
   ]
  },
  {
   "cell_type": "markdown",
   "id": "590355c7",
   "metadata": {},
   "source": [
    "##### Scoring"
   ]
  },
  {
   "cell_type": "code",
   "execution_count": 86,
   "id": "b4740e57",
   "metadata": {},
   "outputs": [
    {
     "data": {
      "text/plain": [
       "<sklearn.metrics._plot.confusion_matrix.ConfusionMatrixDisplay at 0x7fa833358250>"
      ]
     },
     "execution_count": 86,
     "metadata": {},
     "output_type": "execute_result"
    },
    {
     "data": {
      "image/png": "[encoded data removed]",
      "text/plain": [
       "<Figure size 432x288 with 2 Axes>"
      ]
     },
     "metadata": {
      "needs_background": "light"
     },
     "output_type": "display_data"
    }
   ],
   "source": [
    "ConfusionMatrixDisplay.from_predictions(Y_valid_c4, Y_pred_knn_c4)"
   ]
  },
  {
   "cell_type": "code",
   "execution_count": 87,
   "id": "989df0a1",
   "metadata": {},
   "outputs": [
    {
     "data": {
      "image/png": "[encoded data removed]",
      "text/plain": [
       "<Figure size 432x288 with 1 Axes>"
      ]
     },
     "metadata": {
      "needs_background": "light"
     },
     "output_type": "display_data"
    }
   ],
   "source": [
    "fpr, tpr, _ = roc_curve(Y_valid_c4, Y_pred_knn_c4_prob[:,1])\n",
    "roc_display = RocCurveDisplay(fpr=fpr, tpr=tpr).plot()"
   ]
  },
  {
   "cell_type": "code",
   "execution_count": 88,
   "id": "7fe2d9de",
   "metadata": {},
   "outputs": [
    {
     "name": "stdout",
     "output_type": "stream",
     "text": [
      "AUC Score: 0.6060751130466265\n"
     ]
    }
   ],
   "source": [
    "print(f\"AUC Score: {roc_auc_score(Y_valid_c4, Y_pred_knn_c4)}\")"
   ]
  },
  {
   "cell_type": "code",
   "execution_count": 89,
   "id": "4b680edd",
   "metadata": {},
   "outputs": [
    {
     "name": "stdout",
     "output_type": "stream",
     "text": [
      "Macro F1 Score: 0.6213005775847305\n"
     ]
    }
   ],
   "source": [
    "print(f\"Macro F1 Score: {f1_score(Y_valid_c4, Y_pred_knn_c4, average='macro')}\")"
   ]
  },
  {
   "cell_type": "code",
   "execution_count": 90,
   "id": "46666903",
   "metadata": {},
   "outputs": [
    {
     "name": "stdout",
     "output_type": "stream",
     "text": [
      "Accuracy: 0.803014731072285\n"
     ]
    }
   ],
   "source": [
    "print(f\"Accuracy: {accuracy_score(Y_valid_c4, Y_pred_knn_c4)}\")"
   ]
  },
  {
   "cell_type": "markdown",
   "id": "27d9cd37",
   "metadata": {},
   "source": [
    "### Predicting Ratings for Test Data\n",
    "\n",
    "The Logistic Regression Model seemed to have the highest F1 scores, so this will be the model used to predict ratings of the Test Data."
   ]
  },
  {
   "cell_type": "code",
   "execution_count": 91,
   "id": "b693d884",
   "metadata": {},
   "outputs": [],
   "source": [
    "from pathlib import Path\n",
    "\n",
    "ids = [i for i in range(4500)]"
   ]
  },
  {
   "cell_type": "markdown",
   "id": "52ed808a",
   "metadata": {},
   "source": [
    "##### Cutoff 1"
   ]
  },
  {
   "cell_type": "code",
   "execution_count": 92,
   "id": "15d53dd1",
   "metadata": {},
   "outputs": [
    {
     "data": {
      "text/html": [
       "<div>\n",
       "<style scoped>\n",
       "    .dataframe tbody tr th:only-of-type {\n",
       "        vertical-align: middle;\n",
       "    }\n",
       "\n",
       "    .dataframe tbody tr th {\n",
       "        vertical-align: top;\n",
       "    }\n",
       "\n",
       "    .dataframe thead th {\n",
       "        text-align: right;\n",
       "    }\n",
       "</style>\n",
       "<table border=\"1\" class=\"dataframe\">\n",
       "  <thead>\n",
       "    <tr style=\"text-align: right;\">\n",
       "      <th></th>\n",
       "      <th>predicted</th>\n",
       "    </tr>\n",
       "  </thead>\n",
       "  <tbody>\n",
       "    <tr>\n",
       "      <th>0</th>\n",
       "      <td>0</td>\n",
       "    </tr>\n",
       "    <tr>\n",
       "      <th>1</th>\n",
       "      <td>0</td>\n",
       "    </tr>\n",
       "    <tr>\n",
       "      <th>2</th>\n",
       "      <td>0</td>\n",
       "    </tr>\n",
       "    <tr>\n",
       "      <th>3</th>\n",
       "      <td>1</td>\n",
       "    </tr>\n",
       "    <tr>\n",
       "      <th>4</th>\n",
       "      <td>1</td>\n",
       "    </tr>\n",
       "    <tr>\n",
       "      <th>...</th>\n",
       "      <td>...</td>\n",
       "    </tr>\n",
       "    <tr>\n",
       "      <th>4495</th>\n",
       "      <td>1</td>\n",
       "    </tr>\n",
       "    <tr>\n",
       "      <th>4496</th>\n",
       "      <td>1</td>\n",
       "    </tr>\n",
       "    <tr>\n",
       "      <th>4497</th>\n",
       "      <td>1</td>\n",
       "    </tr>\n",
       "    <tr>\n",
       "      <th>4498</th>\n",
       "      <td>1</td>\n",
       "    </tr>\n",
       "    <tr>\n",
       "      <th>4499</th>\n",
       "      <td>1</td>\n",
       "    </tr>\n",
       "  </tbody>\n",
       "</table>\n",
       "<p>4500 rows × 1 columns</p>\n",
       "</div>"
      ],
      "text/plain": [
       "      predicted\n",
       "0             0\n",
       "1             0\n",
       "2             0\n",
       "3             1\n",
       "4             1\n",
       "...         ...\n",
       "4495          1\n",
       "4496          1\n",
       "4497          1\n",
       "4498          1\n",
       "4499          1\n",
       "\n",
       "[4500 rows x 1 columns]"
      ]
     },
     "execution_count": 92,
     "metadata": {},
     "output_type": "execute_result"
    }
   ],
   "source": [
    "Y_c1 = np.array(gs_lr_c1.predict(X_vect_test))\n",
    "\n",
    "# create the dataframe\n",
    "df_c1 = pd.DataFrame({'predicted': Y_c1})\n",
    "\n",
    "# write the dataframe to a .csv file\n",
    "fp_c1 = Path('KAGGLE/c1.csv')  \n",
    "fp_c1.parent.mkdir(parents=True, exist_ok=True)  \n",
    "df_c1.to_csv(fp_c1)  \n",
    "\n",
    "df_c1"
   ]
  },
  {
   "cell_type": "markdown",
   "id": "9fff0ae7",
   "metadata": {},
   "source": [
    "##### Cutoff 2"
   ]
  },
  {
   "cell_type": "code",
   "execution_count": 93,
   "id": "bc7eebd5",
   "metadata": {},
   "outputs": [
    {
     "data": {
      "text/html": [
       "<div>\n",
       "<style scoped>\n",
       "    .dataframe tbody tr th:only-of-type {\n",
       "        vertical-align: middle;\n",
       "    }\n",
       "\n",
       "    .dataframe tbody tr th {\n",
       "        vertical-align: top;\n",
       "    }\n",
       "\n",
       "    .dataframe thead th {\n",
       "        text-align: right;\n",
       "    }\n",
       "</style>\n",
       "<table border=\"1\" class=\"dataframe\">\n",
       "  <thead>\n",
       "    <tr style=\"text-align: right;\">\n",
       "      <th></th>\n",
       "      <th>predicted</th>\n",
       "    </tr>\n",
       "  </thead>\n",
       "  <tbody>\n",
       "    <tr>\n",
       "      <th>0</th>\n",
       "      <td>0</td>\n",
       "    </tr>\n",
       "    <tr>\n",
       "      <th>1</th>\n",
       "      <td>0</td>\n",
       "    </tr>\n",
       "    <tr>\n",
       "      <th>2</th>\n",
       "      <td>0</td>\n",
       "    </tr>\n",
       "    <tr>\n",
       "      <th>3</th>\n",
       "      <td>1</td>\n",
       "    </tr>\n",
       "    <tr>\n",
       "      <th>4</th>\n",
       "      <td>0</td>\n",
       "    </tr>\n",
       "    <tr>\n",
       "      <th>...</th>\n",
       "      <td>...</td>\n",
       "    </tr>\n",
       "    <tr>\n",
       "      <th>4495</th>\n",
       "      <td>1</td>\n",
       "    </tr>\n",
       "    <tr>\n",
       "      <th>4496</th>\n",
       "      <td>1</td>\n",
       "    </tr>\n",
       "    <tr>\n",
       "      <th>4497</th>\n",
       "      <td>1</td>\n",
       "    </tr>\n",
       "    <tr>\n",
       "      <th>4498</th>\n",
       "      <td>1</td>\n",
       "    </tr>\n",
       "    <tr>\n",
       "      <th>4499</th>\n",
       "      <td>1</td>\n",
       "    </tr>\n",
       "  </tbody>\n",
       "</table>\n",
       "<p>4500 rows × 1 columns</p>\n",
       "</div>"
      ],
      "text/plain": [
       "      predicted\n",
       "0             0\n",
       "1             0\n",
       "2             0\n",
       "3             1\n",
       "4             0\n",
       "...         ...\n",
       "4495          1\n",
       "4496          1\n",
       "4497          1\n",
       "4498          1\n",
       "4499          1\n",
       "\n",
       "[4500 rows x 1 columns]"
      ]
     },
     "execution_count": 93,
     "metadata": {},
     "output_type": "execute_result"
    }
   ],
   "source": [
    "Y_c2 = np.array(gs_lr_c2.predict(X_vect_test))\n",
    "\n",
    "# create the dataframe\n",
    "df_c2 = pd.DataFrame({'predicted': Y_c2})\n",
    "\n",
    "# write the dataframe to a .csv file\n",
    "fp_c2 = Path('KAGGLE/c2.csv')  \n",
    "fp_c2.parent.mkdir(parents=True, exist_ok=True)  \n",
    "df_c2.to_csv(fp_c2)  \n",
    "\n",
    "df_c2"
   ]
  },
  {
   "cell_type": "markdown",
   "id": "a3d511d0",
   "metadata": {},
   "source": [
    "##### Cutoff 3"
   ]
  },
  {
   "cell_type": "code",
   "execution_count": 94,
   "id": "1c668d2c",
   "metadata": {},
   "outputs": [
    {
     "data": {
      "text/html": [
       "<div>\n",
       "<style scoped>\n",
       "    .dataframe tbody tr th:only-of-type {\n",
       "        vertical-align: middle;\n",
       "    }\n",
       "\n",
       "    .dataframe tbody tr th {\n",
       "        vertical-align: top;\n",
       "    }\n",
       "\n",
       "    .dataframe thead th {\n",
       "        text-align: right;\n",
       "    }\n",
       "</style>\n",
       "<table border=\"1\" class=\"dataframe\">\n",
       "  <thead>\n",
       "    <tr style=\"text-align: right;\">\n",
       "      <th></th>\n",
       "      <th>predicted</th>\n",
       "    </tr>\n",
       "  </thead>\n",
       "  <tbody>\n",
       "    <tr>\n",
       "      <th>0</th>\n",
       "      <td>0</td>\n",
       "    </tr>\n",
       "    <tr>\n",
       "      <th>1</th>\n",
       "      <td>0</td>\n",
       "    </tr>\n",
       "    <tr>\n",
       "      <th>2</th>\n",
       "      <td>0</td>\n",
       "    </tr>\n",
       "    <tr>\n",
       "      <th>3</th>\n",
       "      <td>0</td>\n",
       "    </tr>\n",
       "    <tr>\n",
       "      <th>4</th>\n",
       "      <td>0</td>\n",
       "    </tr>\n",
       "    <tr>\n",
       "      <th>...</th>\n",
       "      <td>...</td>\n",
       "    </tr>\n",
       "    <tr>\n",
       "      <th>4495</th>\n",
       "      <td>0</td>\n",
       "    </tr>\n",
       "    <tr>\n",
       "      <th>4496</th>\n",
       "      <td>0</td>\n",
       "    </tr>\n",
       "    <tr>\n",
       "      <th>4497</th>\n",
       "      <td>1</td>\n",
       "    </tr>\n",
       "    <tr>\n",
       "      <th>4498</th>\n",
       "      <td>1</td>\n",
       "    </tr>\n",
       "    <tr>\n",
       "      <th>4499</th>\n",
       "      <td>1</td>\n",
       "    </tr>\n",
       "  </tbody>\n",
       "</table>\n",
       "<p>4500 rows × 1 columns</p>\n",
       "</div>"
      ],
      "text/plain": [
       "      predicted\n",
       "0             0\n",
       "1             0\n",
       "2             0\n",
       "3             0\n",
       "4             0\n",
       "...         ...\n",
       "4495          0\n",
       "4496          0\n",
       "4497          1\n",
       "4498          1\n",
       "4499          1\n",
       "\n",
       "[4500 rows x 1 columns]"
      ]
     },
     "execution_count": 94,
     "metadata": {},
     "output_type": "execute_result"
    }
   ],
   "source": [
    "Y_c3 = np.array(gs_lr_c3.predict(X_vect_test))\n",
    "\n",
    "# create the dataframe\n",
    "df_c3 = pd.DataFrame({'predicted': Y_c3})\n",
    "\n",
    "# write the dataframe to a .csv file\n",
    "fp_c3 = Path('KAGGLE/c3.csv')  \n",
    "fp_c3.parent.mkdir(parents=True, exist_ok=True)  \n",
    "df_c3.to_csv(fp_c3)  \n",
    "\n",
    "df_c3"
   ]
  },
  {
   "cell_type": "markdown",
   "id": "137f6546",
   "metadata": {},
   "source": [
    "##### Cutoff 4"
   ]
  },
  {
   "cell_type": "code",
   "execution_count": 95,
   "id": "84a97a08",
   "metadata": {},
   "outputs": [
    {
     "data": {
      "text/html": [
       "<div>\n",
       "<style scoped>\n",
       "    .dataframe tbody tr th:only-of-type {\n",
       "        vertical-align: middle;\n",
       "    }\n",
       "\n",
       "    .dataframe tbody tr th {\n",
       "        vertical-align: top;\n",
       "    }\n",
       "\n",
       "    .dataframe thead th {\n",
       "        text-align: right;\n",
       "    }\n",
       "</style>\n",
       "<table border=\"1\" class=\"dataframe\">\n",
       "  <thead>\n",
       "    <tr style=\"text-align: right;\">\n",
       "      <th></th>\n",
       "      <th>predicted</th>\n",
       "    </tr>\n",
       "  </thead>\n",
       "  <tbody>\n",
       "    <tr>\n",
       "      <th>0</th>\n",
       "      <td>0</td>\n",
       "    </tr>\n",
       "    <tr>\n",
       "      <th>1</th>\n",
       "      <td>0</td>\n",
       "    </tr>\n",
       "    <tr>\n",
       "      <th>2</th>\n",
       "      <td>0</td>\n",
       "    </tr>\n",
       "    <tr>\n",
       "      <th>3</th>\n",
       "      <td>0</td>\n",
       "    </tr>\n",
       "    <tr>\n",
       "      <th>4</th>\n",
       "      <td>0</td>\n",
       "    </tr>\n",
       "    <tr>\n",
       "      <th>...</th>\n",
       "      <td>...</td>\n",
       "    </tr>\n",
       "    <tr>\n",
       "      <th>4495</th>\n",
       "      <td>0</td>\n",
       "    </tr>\n",
       "    <tr>\n",
       "      <th>4496</th>\n",
       "      <td>0</td>\n",
       "    </tr>\n",
       "    <tr>\n",
       "      <th>4497</th>\n",
       "      <td>0</td>\n",
       "    </tr>\n",
       "    <tr>\n",
       "      <th>4498</th>\n",
       "      <td>0</td>\n",
       "    </tr>\n",
       "    <tr>\n",
       "      <th>4499</th>\n",
       "      <td>1</td>\n",
       "    </tr>\n",
       "  </tbody>\n",
       "</table>\n",
       "<p>4500 rows × 1 columns</p>\n",
       "</div>"
      ],
      "text/plain": [
       "      predicted\n",
       "0             0\n",
       "1             0\n",
       "2             0\n",
       "3             0\n",
       "4             0\n",
       "...         ...\n",
       "4495          0\n",
       "4496          0\n",
       "4497          0\n",
       "4498          0\n",
       "4499          1\n",
       "\n",
       "[4500 rows x 1 columns]"
      ]
     },
     "execution_count": 95,
     "metadata": {},
     "output_type": "execute_result"
    }
   ],
   "source": [
    "Y_c4 = np.array(gs_lr_c4.predict(X_vect_test))\n",
    "\n",
    "# create the dataframe\n",
    "df_c4 = pd.DataFrame({'predicted': Y_c4})\n",
    "\n",
    "# write the dataframe to a .csv file\n",
    "fp_c4 = Path('KAGGLE/c4.csv')  \n",
    "fp_c4.parent.mkdir(parents=True, exist_ok=True)  \n",
    "df_c4.to_csv(fp_c4)  \n",
    "\n",
    "df_c4"
   ]
  },
  {
   "cell_type": "markdown",
   "id": "cbc83f22",
   "metadata": {},
   "source": [
    "# Multiclass Classification\n",
    "\n",
    "We will use <b>Logistic Regression</b>, <b>DecisionTreeClassifier</b>, and <b>MultinomialNB</b> as our models for multiclass classification.\n",
    "\n",
    "Each model will use $\\text{GridSearchCV}$ to tune hyperparameters through 5-fold cross validation."
   ]
  },
  {
   "cell_type": "markdown",
   "id": "3710604a",
   "metadata": {},
   "source": [
    "### Logistic Regression"
   ]
  },
  {
   "cell_type": "markdown",
   "id": "8b7f91a9",
   "metadata": {},
   "source": [
    "##### Pipeline and Hyperparameters"
   ]
  },
  {
   "cell_type": "code",
   "execution_count": 96,
   "id": "d3ec2092",
   "metadata": {},
   "outputs": [],
   "source": [
    "lrm_pipe = Pipeline([('clf', LogisticRegression(max_iter=its, multi_class='multinomial'))])\n",
    "\n",
    "lrm_grid_params = {\n",
    "    'clf__C': [.01, .1, 1, 5],\n",
    "    'clf__solver': ['newton-cg']\n",
    "}"
   ]
  },
  {
   "cell_type": "markdown",
   "id": "f996a7d2",
   "metadata": {},
   "source": [
    "##### Model Generation"
   ]
  },
  {
   "cell_type": "code",
   "execution_count": 97,
   "id": "c753ecae",
   "metadata": {},
   "outputs": [],
   "source": [
    "# create the model using 5-fold cross validation\n",
    "gs_lrm = GridSearchCV(lrm_pipe, lrm_grid_params, cv=5)\n",
    "gs_lrm.fit(X_train, y_train.ravel())\n",
    "\n",
    "# get predicted results using validation set\n",
    "Y_pred_lrm_prob = gs_lrm.predict_proba(X_test)\n",
    "Y_pred_lrm = gs_lrm.predict(X_test)"
   ]
  },
  {
   "cell_type": "markdown",
   "id": "de746565",
   "metadata": {},
   "source": [
    "##### Scoring"
   ]
  },
  {
   "cell_type": "code",
   "execution_count": 98,
   "id": "c40de553",
   "metadata": {},
   "outputs": [
    {
     "data": {
      "text/plain": [
       "<sklearn.metrics._plot.confusion_matrix.ConfusionMatrixDisplay at 0x7fa83393e520>"
      ]
     },
     "execution_count": 98,
     "metadata": {},
     "output_type": "execute_result"
    },
    {
     "data": {
      "image/png": "[encoded data removed]",
      "text/plain": [
       "<Figure size 432x288 with 2 Axes>"
      ]
     },
     "metadata": {
      "needs_background": "light"
     },
     "output_type": "display_data"
    }
   ],
   "source": [
    "ConfusionMatrixDisplay.from_predictions(y_test, Y_pred_lrm)"
   ]
  },
  {
   "cell_type": "markdown",
   "id": "d9818727",
   "metadata": {},
   "source": [
    "<a href=\"https://scikit-learn.org/0.15/auto_examples/plot_roc.html\" target=\"_blank\">Guidance</a> for plotting ROC curve for multiclass classification"
   ]
  },
  {
   "cell_type": "code",
   "execution_count": 99,
   "id": "b827eeff",
   "metadata": {
    "scrolled": true
   },
   "outputs": [
    {
     "data": {
      "image/png": "[encoded data removed]",
      "text/plain": [
       "<Figure size 432x288 with 1 Axes>"
      ]
     },
     "metadata": {
      "needs_background": "light"
     },
     "output_type": "display_data"
    }
   ],
   "source": [
    "y = label_binarize(y_test, classes=[1, 2, 3, 4, 5])\n",
    "n_classes = y.shape[1]\n",
    "\n",
    "# Compute ROC curve and ROC area for each class\n",
    "fpr = dict()\n",
    "tpr = dict()\n",
    "roc_auc = dict()\n",
    "for i in range(n_classes):\n",
    "    fpr[i], tpr[i], _ = roc_curve(y[:, i], Y_pred_lrm_prob[:, i])\n",
    "    roc_auc[i] = auc(fpr[i], tpr[i])\n",
    "    \n",
    "# Compute micro-average ROC curve and ROC area\n",
    "fpr[\"micro\"], tpr[\"micro\"], _ = roc_curve(y.ravel(), Y_pred_lrm_prob.ravel())\n",
    "roc_auc[\"micro\"] = auc(fpr[\"micro\"], tpr[\"micro\"])\n",
    "\n",
    "# Plot ROC curve\n",
    "plt.figure()\n",
    "plt.plot(fpr[\"micro\"], tpr[\"micro\"],\n",
    "         label='micro-average ROC curve (area = {0:0.2f})'\n",
    "               ''.format(roc_auc[\"micro\"]))\n",
    "for i in range(n_classes):\n",
    "    plt.plot(fpr[i], tpr[i], label='ROC curve of class {0} (area = {1:0.2f})'\n",
    "                                   ''.format(i, roc_auc[i]))\n",
    "\n",
    "plt.plot([0, 1], [0, 1], 'k--')\n",
    "plt.xlim([0.0, 1.0])\n",
    "plt.ylim([0.0, 1.05])\n",
    "plt.xlabel('False Positive Rate')\n",
    "plt.ylabel('True Positive Rate')\n",
    "plt.title('Some extension of Receiver operating characteristic to multi-class')\n",
    "plt.legend(loc=\"lower right\")\n",
    "plt.show()"
   ]
  },
  {
   "cell_type": "code",
   "execution_count": 100,
   "id": "79a9c663",
   "metadata": {},
   "outputs": [
    {
     "name": "stdout",
     "output_type": "stream",
     "text": [
      "AUC Score: 0.7587975773179223\n"
     ]
    }
   ],
   "source": [
    "print(f\"AUC Score: {roc_auc_score(y_test, Y_pred_lrm_prob, multi_class='ovr')}\")"
   ]
  },
  {
   "cell_type": "code",
   "execution_count": 101,
   "id": "4eea33ac",
   "metadata": {},
   "outputs": [
    {
     "name": "stdout",
     "output_type": "stream",
     "text": [
      "Macro F1 Score: 0.44411568435757776\n"
     ]
    }
   ],
   "source": [
    "print(f\"Macro F1 Score: {f1_score(y_test, Y_pred_lrm, average='macro')}\")"
   ]
  },
  {
   "cell_type": "code",
   "execution_count": 102,
   "id": "6f38e07e",
   "metadata": {},
   "outputs": [
    {
     "name": "stdout",
     "output_type": "stream",
     "text": [
      "Accuracy: 0.4522096608427544\n"
     ]
    }
   ],
   "source": [
    "print(f\"Accuracy: {accuracy_score(y_test, Y_pred_lrm)}\")"
   ]
  },
  {
   "cell_type": "markdown",
   "id": "60194b0e",
   "metadata": {},
   "source": [
    "### Decision Tree"
   ]
  },
  {
   "cell_type": "markdown",
   "id": "d143ec36",
   "metadata": {},
   "source": [
    "##### Pipeline and Hyperparameters"
   ]
  },
  {
   "cell_type": "code",
   "execution_count": 103,
   "id": "bb760eaf",
   "metadata": {},
   "outputs": [],
   "source": [
    "tree = DecisionTreeClassifier()\n",
    "\n",
    "tree_grid_params = {\n",
    "    'criterion': ['gini', 'entropy'],\n",
    "    'max_depth': [10, 20, 30]\n",
    "}"
   ]
  },
  {
   "cell_type": "markdown",
   "id": "497f03bc",
   "metadata": {},
   "source": [
    "##### Model Generation"
   ]
  },
  {
   "cell_type": "code",
   "execution_count": 104,
   "id": "d7df99ba",
   "metadata": {},
   "outputs": [],
   "source": [
    "# create the model using 5-fold cross validation\n",
    "gs_tree = GridSearchCV(tree, tree_grid_params, cv=5)\n",
    "gs_tree.fit(X_train, y_train.ravel())\n",
    "\n",
    "# get predicted results using validation set\n",
    "Y_pred_tree_prob = gs_tree.predict_proba(X_test)\n",
    "Y_pred_tree = gs_tree.predict(X_test)"
   ]
  },
  {
   "cell_type": "markdown",
   "id": "8477dd0b",
   "metadata": {},
   "source": [
    "##### Scoring"
   ]
  },
  {
   "cell_type": "code",
   "execution_count": 105,
   "id": "9299c53b",
   "metadata": {
    "scrolled": true
   },
   "outputs": [
    {
     "data": {
      "text/plain": [
       "<sklearn.metrics._plot.confusion_matrix.ConfusionMatrixDisplay at 0x7fa834bfca00>"
      ]
     },
     "execution_count": 105,
     "metadata": {},
     "output_type": "execute_result"
    },
    {
     "data": {
      "image/png": "[encoded data removed]",
      "text/plain": [
       "<Figure size 432x288 with 2 Axes>"
      ]
     },
     "metadata": {
      "needs_background": "light"
     },
     "output_type": "display_data"
    }
   ],
   "source": [
    "ConfusionMatrixDisplay.from_predictions(y_test, Y_pred_tree)"
   ]
  },
  {
   "cell_type": "markdown",
   "id": "cea115b0",
   "metadata": {},
   "source": [
    "<a href=\"https://scikit-learn.org/0.15/auto_examples/plot_roc.html\" target=\"_blank\">Guidance</a> for plotting ROC curve for multiclass classification"
   ]
  },
  {
   "cell_type": "code",
   "execution_count": 106,
   "id": "ea162016",
   "metadata": {
    "scrolled": true
   },
   "outputs": [
    {
     "data": {
      "image/png": "[encoded data removed]",
      "text/plain": [
       "<Figure size 432x288 with 1 Axes>"
      ]
     },
     "metadata": {
      "needs_background": "light"
     },
     "output_type": "display_data"
    }
   ],
   "source": [
    "y = label_binarize(y_test, classes=[1, 2, 3, 4, 5])\n",
    "n_classes = y.shape[1]\n",
    "\n",
    "# Compute ROC curve and ROC area for each class\n",
    "fpr = dict()\n",
    "tpr = dict()\n",
    "roc_auc = dict()\n",
    "for i in range(n_classes):\n",
    "    fpr[i], tpr[i], _ = roc_curve(y[:, i], Y_pred_tree_prob[:, i])\n",
    "    roc_auc[i] = auc(fpr[i], tpr[i])\n",
    "    \n",
    "# Compute micro-average ROC curve and ROC area\n",
    "fpr[\"micro\"], tpr[\"micro\"], _ = roc_curve(y.ravel(), Y_pred_tree_prob.ravel())\n",
    "roc_auc[\"micro\"] = auc(fpr[\"micro\"], tpr[\"micro\"])\n",
    "\n",
    "# Plot ROC curve\n",
    "plt.figure()\n",
    "plt.plot(fpr[\"micro\"], tpr[\"micro\"],\n",
    "         label='micro-average ROC curve (area = {0:0.2f})'\n",
    "               ''.format(roc_auc[\"micro\"]))\n",
    "for i in range(n_classes):\n",
    "    plt.plot(fpr[i], tpr[i], label='ROC curve of class {0} (area = {1:0.2f})'\n",
    "                                   ''.format(i, roc_auc[i]))\n",
    "\n",
    "plt.plot([0, 1], [0, 1], 'k--')\n",
    "plt.xlim([0.0, 1.0])\n",
    "plt.ylim([0.0, 1.05])\n",
    "plt.xlabel('False Positive Rate')\n",
    "plt.ylabel('True Positive Rate')\n",
    "plt.title('Some extension of Receiver operating characteristic to multi-class')\n",
    "plt.legend(loc=\"lower right\")\n",
    "plt.show()"
   ]
  },
  {
   "cell_type": "code",
   "execution_count": 107,
   "id": "2099b686",
   "metadata": {},
   "outputs": [
    {
     "name": "stdout",
     "output_type": "stream",
     "text": [
      "AUC Score: 0.6298614199634189\n"
     ]
    }
   ],
   "source": [
    "print(f\"AUC Score: {roc_auc_score(y_test, Y_pred_tree_prob, multi_class='ovr')}\")"
   ]
  },
  {
   "cell_type": "code",
   "execution_count": 108,
   "id": "6c578199",
   "metadata": {},
   "outputs": [
    {
     "name": "stdout",
     "output_type": "stream",
     "text": [
      "Macro F1 Score: 0.34019811466167454\n"
     ]
    }
   ],
   "source": [
    "print(f\"Macro F1 Score: {f1_score(y_test, Y_pred_tree, average='macro')}\")"
   ]
  },
  {
   "cell_type": "code",
   "execution_count": 109,
   "id": "17e5b19d",
   "metadata": {},
   "outputs": [
    {
     "name": "stdout",
     "output_type": "stream",
     "text": [
      "Accuracy: 0.3391572456320658\n"
     ]
    }
   ],
   "source": [
    "print(f\"Accuracy: {accuracy_score(y_test, Y_pred_tree)}\")"
   ]
  },
  {
   "cell_type": "markdown",
   "id": "a55b03b6",
   "metadata": {},
   "source": [
    "### MultinomialNB"
   ]
  },
  {
   "cell_type": "markdown",
   "id": "fca30c57",
   "metadata": {},
   "source": [
    "##### Pipeline and Hyperparameters"
   ]
  },
  {
   "cell_type": "code",
   "execution_count": 110,
   "id": "408b49c6",
   "metadata": {},
   "outputs": [],
   "source": [
    "mnb = MultinomialNB()\n",
    "\n",
    "mnb_grid_params = {\n",
    "    'alpha': [.1, .5, .75, 1]\n",
    "}"
   ]
  },
  {
   "cell_type": "markdown",
   "id": "4c3e7beb",
   "metadata": {},
   "source": [
    "##### Model Generation"
   ]
  },
  {
   "cell_type": "code",
   "execution_count": 111,
   "id": "35ab5d5f",
   "metadata": {},
   "outputs": [],
   "source": [
    "# create the model using 5-fold cross validation\n",
    "gs_mnb = GridSearchCV(mnb, mnb_grid_params, cv=5)\n",
    "gs_mnb.fit(X_train, y_train.ravel())\n",
    "\n",
    "# get predicted results using validation set\n",
    "Y_pred_mnb_prob = gs_mnb.predict_proba(X_test)\n",
    "Y_pred_mnb = gs_mnb.predict(X_test)"
   ]
  },
  {
   "cell_type": "markdown",
   "id": "035af318",
   "metadata": {},
   "source": [
    "##### Scoring"
   ]
  },
  {
   "cell_type": "code",
   "execution_count": 112,
   "id": "ea1660b6",
   "metadata": {
    "scrolled": true
   },
   "outputs": [
    {
     "data": {
      "text/plain": [
       "<sklearn.metrics._plot.confusion_matrix.ConfusionMatrixDisplay at 0x7fa84149dfd0>"
      ]
     },
     "execution_count": 112,
     "metadata": {},
     "output_type": "execute_result"
    },
    {
     "data": {
      "image/png": "[encoded data removed]",
      "text/plain": [
       "<Figure size 432x288 with 2 Axes>"
      ]
     },
     "metadata": {
      "needs_background": "light"
     },
     "output_type": "display_data"
    }
   ],
   "source": [
    "ConfusionMatrixDisplay.from_predictions(y_test, Y_pred_mnb)"
   ]
  },
  {
   "cell_type": "markdown",
   "id": "baa19302",
   "metadata": {},
   "source": [
    "<a href=\"https://scikit-learn.org/0.15/auto_examples/plot_roc.html\" target=\"_blank\">Guidance</a> for plotting ROC curve for multiclass classification"
   ]
  },
  {
   "cell_type": "code",
   "execution_count": 113,
   "id": "9484e320",
   "metadata": {
    "scrolled": true
   },
   "outputs": [
    {
     "data": {
      "image/png": "[encoded data removed]",
      "text/plain": [
       "<Figure size 432x288 with 1 Axes>"
      ]
     },
     "metadata": {
      "needs_background": "light"
     },
     "output_type": "display_data"
    }
   ],
   "source": [
    "y = label_binarize(y_test, classes=[1, 2, 3, 4, 5])\n",
    "n_classes = y.shape[1]\n",
    "\n",
    "# Compute ROC curve and ROC area for each class\n",
    "fpr = dict()\n",
    "tpr = dict()\n",
    "roc_auc = dict()\n",
    "for i in range(n_classes):\n",
    "    fpr[i], tpr[i], _ = roc_curve(y[:, i], Y_pred_mnb_prob[:, i])\n",
    "    roc_auc[i] = auc(fpr[i], tpr[i])\n",
    "    \n",
    "# Compute micro-average ROC curve and ROC area\n",
    "fpr[\"micro\"], tpr[\"micro\"], _ = roc_curve(y.ravel(), Y_pred_mnb_prob.ravel())\n",
    "roc_auc[\"micro\"] = auc(fpr[\"micro\"], tpr[\"micro\"])\n",
    "\n",
    "# Plot ROC curve\n",
    "plt.figure()\n",
    "plt.plot(fpr[\"micro\"], tpr[\"micro\"],\n",
    "         label='micro-average ROC curve (area = {0:0.2f})'\n",
    "               ''.format(roc_auc[\"micro\"]))\n",
    "for i in range(n_classes):\n",
    "    plt.plot(fpr[i], tpr[i], label='ROC curve of class {0} (area = {1:0.2f})'\n",
    "                                   ''.format(i, roc_auc[i]))\n",
    "\n",
    "plt.plot([0, 1], [0, 1], 'k--')\n",
    "plt.xlim([0.0, 1.0])\n",
    "plt.ylim([0.0, 1.05])\n",
    "plt.xlabel('False Positive Rate')\n",
    "plt.ylabel('True Positive Rate')\n",
    "plt.title('Some extension of Receiver operating characteristic to multi-class')\n",
    "plt.legend(loc=\"lower right\")\n",
    "plt.show()"
   ]
  },
  {
   "cell_type": "code",
   "execution_count": 114,
   "id": "be0644e6",
   "metadata": {},
   "outputs": [
    {
     "name": "stdout",
     "output_type": "stream",
     "text": [
      "AUC Score: 0.7266028500312542\n"
     ]
    }
   ],
   "source": [
    "print(f\"AUC Score: {roc_auc_score(y_test, Y_pred_mnb_prob, multi_class='ovr')}\")"
   ]
  },
  {
   "cell_type": "code",
   "execution_count": 115,
   "id": "23d5d703",
   "metadata": {},
   "outputs": [
    {
     "name": "stdout",
     "output_type": "stream",
     "text": [
      "Macro F1 Score: 0.42287050440104695\n"
     ]
    }
   ],
   "source": [
    "print(f\"Macro F1 Score: {f1_score(y_test, Y_pred_mnb, average='macro')}\")"
   ]
  },
  {
   "cell_type": "code",
   "execution_count": 116,
   "id": "0a74b5d9",
   "metadata": {},
   "outputs": [
    {
     "name": "stdout",
     "output_type": "stream",
     "text": [
      "Accuracy: 0.43233984241178486\n"
     ]
    }
   ],
   "source": [
    "print(f\"Accuracy: {accuracy_score(y_test, Y_pred_mnb)}\")"
   ]
  },
  {
   "cell_type": "markdown",
   "id": "ab3df40a",
   "metadata": {},
   "source": [
    "### Predicting Ratings for Test Data\n",
    "\n",
    "The Logistic Regression Model seemed to have the highest F1 scores, so this will be the model used to predict ratings of the Test Data."
   ]
  },
  {
   "cell_type": "code",
   "execution_count": 117,
   "id": "33edcb0a",
   "metadata": {},
   "outputs": [
    {
     "data": {
      "text/html": [
       "<div>\n",
       "<style scoped>\n",
       "    .dataframe tbody tr th:only-of-type {\n",
       "        vertical-align: middle;\n",
       "    }\n",
       "\n",
       "    .dataframe tbody tr th {\n",
       "        vertical-align: top;\n",
       "    }\n",
       "\n",
       "    .dataframe thead th {\n",
       "        text-align: right;\n",
       "    }\n",
       "</style>\n",
       "<table border=\"1\" class=\"dataframe\">\n",
       "  <thead>\n",
       "    <tr style=\"text-align: right;\">\n",
       "      <th></th>\n",
       "      <th>predicted</th>\n",
       "    </tr>\n",
       "  </thead>\n",
       "  <tbody>\n",
       "    <tr>\n",
       "      <th>0</th>\n",
       "      <td>1</td>\n",
       "    </tr>\n",
       "    <tr>\n",
       "      <th>1</th>\n",
       "      <td>1</td>\n",
       "    </tr>\n",
       "    <tr>\n",
       "      <th>2</th>\n",
       "      <td>1</td>\n",
       "    </tr>\n",
       "    <tr>\n",
       "      <th>3</th>\n",
       "      <td>1</td>\n",
       "    </tr>\n",
       "    <tr>\n",
       "      <th>4</th>\n",
       "      <td>2</td>\n",
       "    </tr>\n",
       "    <tr>\n",
       "      <th>...</th>\n",
       "      <td>...</td>\n",
       "    </tr>\n",
       "    <tr>\n",
       "      <th>4495</th>\n",
       "      <td>5</td>\n",
       "    </tr>\n",
       "    <tr>\n",
       "      <th>4496</th>\n",
       "      <td>3</td>\n",
       "    </tr>\n",
       "    <tr>\n",
       "      <th>4497</th>\n",
       "      <td>5</td>\n",
       "    </tr>\n",
       "    <tr>\n",
       "      <th>4498</th>\n",
       "      <td>5</td>\n",
       "    </tr>\n",
       "    <tr>\n",
       "      <th>4499</th>\n",
       "      <td>5</td>\n",
       "    </tr>\n",
       "  </tbody>\n",
       "</table>\n",
       "<p>4500 rows × 1 columns</p>\n",
       "</div>"
      ],
      "text/plain": [
       "      predicted\n",
       "0             1\n",
       "1             1\n",
       "2             1\n",
       "3             1\n",
       "4             2\n",
       "...         ...\n",
       "4495          5\n",
       "4496          3\n",
       "4497          5\n",
       "4498          5\n",
       "4499          5\n",
       "\n",
       "[4500 rows x 1 columns]"
      ]
     },
     "execution_count": 117,
     "metadata": {},
     "output_type": "execute_result"
    }
   ],
   "source": [
    "Y_pred_lrm = np.array(gs_lrm.predict(X_vect_test))\n",
    "\n",
    "# create the dataframe\n",
    "df_lrm = pd.DataFrame({'predicted': Y_pred_lrm})\n",
    "\n",
    "# write the dataframe to a .csv file\n",
    "fp = Path('KAGGLE/multi.csv')  \n",
    "fp.parent.mkdir(parents=True, exist_ok=True)  \n",
    "df_lrm.to_csv(fp)  \n",
    "\n",
    "df_lrm"
   ]
  },
  {
   "cell_type": "markdown",
   "id": "9df4c05b",
   "metadata": {},
   "source": [
    "# Clustering\n",
    "\n",
    "Cluster the Test data into 6 groups representing the 6 product types defined in the <i><b>category</b></i> column.\n",
    "\n",
    "We use $\\text{GridSearchCV}$ to tune hyperparameters."
   ]
  },
  {
   "cell_type": "code",
   "execution_count": 175,
   "id": "8407e050",
   "metadata": {},
   "outputs": [],
   "source": [
    "labels_true = df_test['category']\n",
    "categories = np.unique(df_test['category'])"
   ]
  },
  {
   "cell_type": "code",
   "execution_count": 178,
   "id": "34da8018",
   "metadata": {},
   "outputs": [],
   "source": [
    "kmeans = KMeans(init=\"k-means++\", n_clusters=len(categories), max_iter=its, n_init=100, random_state=42)\n",
    "\n",
    "kmeans_grid_params = {\n",
    "    'tol': [1e-6, 1e-4, 1e-2],\n",
    "}"
   ]
  },
  {
   "cell_type": "markdown",
   "id": "1fa97de2",
   "metadata": {},
   "source": [
    "##### Generate Model"
   ]
  },
  {
   "cell_type": "code",
   "execution_count": 179,
   "id": "b99503a3",
   "metadata": {},
   "outputs": [],
   "source": [
    "gs_kmeans = GridSearchCV(kmeans, kmeans_grid_params, cv=5)\n",
    "\n",
    "# fit the data\n",
    "gs_kmeans.fit(X_vect_test)\n",
    "\n",
    "# predict labels\n",
    "labels_pred = gs_kmeans.predict(X_vect_test)"
   ]
  },
  {
   "cell_type": "markdown",
   "id": "8d8ad71b",
   "metadata": {},
   "source": [
    "##### Scoring"
   ]
  },
  {
   "cell_type": "code",
   "execution_count": 180,
   "id": "69bec8e8",
   "metadata": {},
   "outputs": [
    {
     "name": "stdout",
     "output_type": "stream",
     "text": [
      "Silhouette Score: 0.5110215134335946\n"
     ]
    }
   ],
   "source": [
    "print(f\"Silhouette Score: {silhouette_score(X_vect_test, labels_pred)}\")"
   ]
  },
  {
   "cell_type": "code",
   "execution_count": 181,
   "id": "3f9637e8",
   "metadata": {},
   "outputs": [
    {
     "name": "stdout",
     "output_type": "stream",
     "text": [
      "Rand Index Score: 0.24492909535452323\n"
     ]
    }
   ],
   "source": [
    "print(f\"Rand Index Score: {rand_score(labels_true, labels_pred)}\")"
   ]
  }
 ],
 "metadata": {
  "kernelspec": {
   "display_name": "Python 3",
   "language": "python",
   "name": "python3"
  },
  "language_info": {
   "codemirror_mode": {
    "name": "ipython",
    "version": 3
   },
   "file_extension": ".py",
   "mimetype": "text/x-python",
   "name": "python",
   "nbconvert_exporter": "python",
   "pygments_lexer": "ipython3",
   "version": "3.8.8"
  }
 },
 "nbformat": 4,
 "nbformat_minor": 5
}
